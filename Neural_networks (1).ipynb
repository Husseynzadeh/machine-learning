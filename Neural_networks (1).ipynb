{
  "nbformat": 4,
  "nbformat_minor": 0,
  "metadata": {
    "colab": {
      "provenance": [],
      "gpuType": "T4"
    },
    "kernelspec": {
      "name": "python3",
      "display_name": "Python 3"
    },
    "language_info": {
      "name": "python"
    },
    "accelerator": "GPU"
  },
  "cells": [
    {
      "cell_type": "markdown",
      "source": [
        "# Implementing MLPs with Keras"
      ],
      "metadata": {
        "id": "9ZMrsnszsXtd"
      }
    },
    {
      "cell_type": "code",
      "execution_count": null,
      "metadata": {
        "colab": {
          "base_uri": "https://localhost:8080/"
        },
        "id": "qeIMt3jvphfk",
        "outputId": "8550787a-c456-46d4-ada1-f75dabf1948c"
      },
      "outputs": [
        {
          "output_type": "stream",
          "name": "stdout",
          "text": [
            "Downloading data from https://storage.googleapis.com/tensorflow/tf-keras-datasets/train-labels-idx1-ubyte.gz\n",
            "\u001b[1m29515/29515\u001b[0m \u001b[32m━━━━━━━━━━━━━━━━━━━━\u001b[0m\u001b[37m\u001b[0m \u001b[1m0s\u001b[0m 0us/step\n",
            "Downloading data from https://storage.googleapis.com/tensorflow/tf-keras-datasets/train-images-idx3-ubyte.gz\n",
            "\u001b[1m26421880/26421880\u001b[0m \u001b[32m━━━━━━━━━━━━━━━━━━━━\u001b[0m\u001b[37m\u001b[0m \u001b[1m0s\u001b[0m 0us/step\n",
            "Downloading data from https://storage.googleapis.com/tensorflow/tf-keras-datasets/t10k-labels-idx1-ubyte.gz\n",
            "\u001b[1m5148/5148\u001b[0m \u001b[32m━━━━━━━━━━━━━━━━━━━━\u001b[0m\u001b[37m\u001b[0m \u001b[1m0s\u001b[0m 0us/step\n",
            "Downloading data from https://storage.googleapis.com/tensorflow/tf-keras-datasets/t10k-images-idx3-ubyte.gz\n",
            "\u001b[1m4422102/4422102\u001b[0m \u001b[32m━━━━━━━━━━━━━━━━━━━━\u001b[0m\u001b[37m\u001b[0m \u001b[1m0s\u001b[0m 0us/step\n"
          ]
        }
      ],
      "source": [
        "import tensorflow as tf\n",
        "\n",
        "fashion_mnist = tf.keras.datasets.fashion_mnist.load_data()\n",
        "(X_train_full, y_train_full), (X_test, y_test) = fashion_mnist\n",
        "X_train, y_train = X_train_full[:-5000], y_train_full[:-5000]\n",
        "X_valid, y_valid = X_train_full[-5000:], y_train_full[-5000:]"
      ]
    },
    {
      "cell_type": "code",
      "source": [
        "X_valid.shape"
      ],
      "metadata": {
        "colab": {
          "base_uri": "https://localhost:8080/"
        },
        "id": "vhWU5LsFVkMG",
        "outputId": "500b9d1e-be58-414e-a70f-5a75970b2867"
      },
      "execution_count": null,
      "outputs": [
        {
          "output_type": "execute_result",
          "data": {
            "text/plain": [
              "(5000, 28, 28)"
            ]
          },
          "metadata": {},
          "execution_count": 2
        }
      ]
    },
    {
      "cell_type": "code",
      "source": [
        "X_train.shape"
      ],
      "metadata": {
        "colab": {
          "base_uri": "https://localhost:8080/"
        },
        "id": "mH7nOsZLrVaN",
        "outputId": "ad65e26d-2650-4834-bc81-1fb03b1398a9"
      },
      "execution_count": null,
      "outputs": [
        {
          "output_type": "execute_result",
          "data": {
            "text/plain": [
              "(55000, 28, 28)"
            ]
          },
          "metadata": {},
          "execution_count": 2
        }
      ]
    },
    {
      "cell_type": "code",
      "source": [
        "X_train.dtype"
      ],
      "metadata": {
        "colab": {
          "base_uri": "https://localhost:8080/"
        },
        "id": "4SbbQ4f6slMu",
        "outputId": "a71d4bac-829e-4e94-8f70-05d5f441fcfc"
      },
      "execution_count": null,
      "outputs": [
        {
          "output_type": "execute_result",
          "data": {
            "text/plain": [
              "dtype('uint8')"
            ]
          },
          "metadata": {},
          "execution_count": 3
        }
      ]
    },
    {
      "cell_type": "code",
      "source": [
        "X_train, X_valid, X_test = X_train/255.,  X_valid/255., X_test/255."
      ],
      "metadata": {
        "id": "db5oGT6AtO_a"
      },
      "execution_count": null,
      "outputs": []
    },
    {
      "cell_type": "code",
      "source": [
        "import matplotlib.pyplot as plt\n",
        "plt.imshow(X_train[0], cmap='binary')\n",
        "plt.axis('off')\n",
        "plt.show()"
      ],
      "metadata": {
        "colab": {
          "base_uri": "https://localhost:8080/",
          "height": 406
        },
        "id": "VfLt9fVRsqEY",
        "outputId": "1520fa46-a40e-475f-fa2f-30327b974a57"
      },
      "execution_count": null,
      "outputs": [
        {
          "output_type": "display_data",
          "data": {
            "text/plain": [
              "<Figure size 640x480 with 1 Axes>"
            ],
            "image/png": "[encoded data removed]"
          },
          "metadata": {}
        }
      ]
    },
    {
      "cell_type": "code",
      "source": [
        "y_train"
      ],
      "metadata": {
        "colab": {
          "base_uri": "https://localhost:8080/"
        },
        "id": "FJmntdaJs6ys",
        "outputId": "28fd44bd-eab4-4040-d439-5549ffc56369"
      },
      "execution_count": null,
      "outputs": [
        {
          "output_type": "execute_result",
          "data": {
            "text/plain": [
              "array([9, 0, 0, ..., 9, 0, 2], dtype=uint8)"
            ]
          },
          "metadata": {},
          "execution_count": 6
        }
      ]
    },
    {
      "cell_type": "code",
      "source": [
        "class_names = ['T-shirt', 'Trousers', 'Pullover', 'Dress', 'Coat', 'Sandal', 'Shirt', 'Sneaker', 'Bag', 'Ankle boot']"
      ],
      "metadata": {
        "id": "nxQpu4KTtpaD"
      },
      "execution_count": null,
      "outputs": []
    },
    {
      "cell_type": "code",
      "source": [
        "n_rows = 4\n",
        "n_cols = 10\n",
        "\n",
        "plt.figure(figsize=(n_cols*1.2, n_rows*1.2))\n",
        "for row in range(n_rows):\n",
        "  for col in range(n_cols):\n",
        "    index = n_cols*row+col\n",
        "    plt.subplot(n_rows,n_cols, index+1)\n",
        "    plt.imshow(X_train[index], cmap='binary', interpolation='nearest')\n",
        "    plt.axis('off')\n",
        "    plt.title(class_names[y_train[index]])\n",
        "plt.subplots_adjust(wspace=0.2, hspace=0.5)\n",
        "\n",
        "plt.show()"
      ],
      "metadata": {
        "colab": {
          "base_uri": "https://localhost:8080/",
          "height": 428
        },
        "id": "LQitbkJKuMjX",
        "outputId": "329ca202-23e3-40bf-9cfb-c1a3060f61ea"
      },
      "execution_count": null,
      "outputs": [
        {
          "output_type": "display_data",
          "data": {
            "text/plain": [
              "<Figure size 1200x480 with 40 Axes>"
            ],
            "image/png": "[encoded data removed]"
          },
          "metadata": {}
        }
      ]
    },
    {
      "cell_type": "markdown",
      "source": [
        "# Tensorflow Sequential API"
      ],
      "metadata": {
        "id": "AW7gYXSivZgB"
      }
    },
    {
      "cell_type": "code",
      "source": [
        "tf.random.set_seed(42)\n",
        "model = tf.keras.Sequential()  #ardicil olmagi\n",
        "model.add(tf.keras.layers.Input(shape=[28,28]))  # add - modelin icine layer elave etmeye\n",
        "model.add(tf.keras.layers.Flatten())  #vektora cevirir shape-i\n",
        "model.add(tf.keras.layers.Dense(300, activation='relu'))  #activation xetti olmayan elaqeni oyrenmeye\n",
        "model.add(tf.keras.layers.Dense(100, activation='relu'))\n",
        "model.add(tf.keras.layers.Dense(10, activation='softmax')) #outputda 10 class oldugu ucun sonda 10neyron yaradilir,\n",
        "# multiclass olur deye softmax isledirik"
      ],
      "metadata": {
        "id": "4uZUiKouv1AH"
      },
      "execution_count": null,
      "outputs": []
    },
    {
      "cell_type": "code",
      "source": [
        "tf.random.set_seed(42)\n",
        "tf.keras.backend.clear_session() #adi deyismeye qoymur\n",
        "\n",
        "model = tf.keras.Sequential([\n",
        "    tf.keras.layers.Input(shape=[28,28]),\n",
        "    tf.keras.layers.Flatten(),\n",
        "    tf.keras.layers.Dense(300, activation='relu'),\n",
        "    tf.keras.layers.Dense(100, activation='relu'),\n",
        "    tf.keras.layers.Dense(10, activation='softmax')\n",
        "])"
      ],
      "metadata": {
        "id": "svZa_N7Mwx9f"
      },
      "execution_count": null,
      "outputs": []
    },
    {
      "cell_type": "code",
      "source": [
        "model.summary()"
      ],
      "metadata": {
        "id": "q23bGWRByjxN",
        "colab": {
          "base_uri": "https://localhost:8080/",
          "height": 257
        },
        "outputId": "1c0d6435-6d4d-4642-e2b0-e0fbf7be6258"
      },
      "execution_count": null,
      "outputs": [
        {
          "output_type": "display_data",
          "data": {
            "text/plain": [
              "\u001b[1mModel: \"sequential\"\u001b[0m\n"
            ],
            "text/html": [
              "<pre style=\"white-space:pre;overflow-x:auto;line-height:normal;font-family:Menlo,'DejaVu Sans Mono',consolas,'Courier New',monospace\"><span style=\"font-weight: bold\">Model: \"sequential\"</span>\n",
              "</pre>\n"
            ]
          },
          "metadata": {}
        },
        {
          "output_type": "display_data",
          "data": {
            "text/plain": [
              "┏━━━━━━━━━━━━━━━━━━━━━━━━━━━━━━━━━━━━━━┳━━━━━━━━━━━━━━━━━━━━━━━━━━━━━┳━━━━━━━━━━━━━━━━━┓\n",
              "┃\u001b[1m \u001b[0m\u001b[1mLayer (type)                        \u001b[0m\u001b[1m \u001b[0m┃\u001b[1m \u001b[0m\u001b[1mOutput Shape               \u001b[0m\u001b[1m \u001b[0m┃\u001b[1m \u001b[0m\u001b[1m        Param #\u001b[0m\u001b[1m \u001b[0m┃\n",
              "┡━━━━━━━━━━━━━━━━━━━━━━━━━━━━━━━━━━━━━━╇━━━━━━━━━━━━━━━━━━━━━━━━━━━━━╇━━━━━━━━━━━━━━━━━┩\n",
              "│ flatten (\u001b[38;5;33mFlatten\u001b[0m)                    │ (\u001b[38;5;45mNone\u001b[0m, \u001b[38;5;34m784\u001b[0m)                 │               \u001b[38;5;34m0\u001b[0m │\n",
              "├──────────────────────────────────────┼─────────────────────────────┼─────────────────┤\n",
              "│ dense (\u001b[38;5;33mDense\u001b[0m)                        │ (\u001b[38;5;45mNone\u001b[0m, \u001b[38;5;34m300\u001b[0m)                 │         \u001b[38;5;34m235,500\u001b[0m │\n",
              "├──────────────────────────────────────┼─────────────────────────────┼─────────────────┤\n",
              "│ dense_1 (\u001b[38;5;33mDense\u001b[0m)                      │ (\u001b[38;5;45mNone\u001b[0m, \u001b[38;5;34m100\u001b[0m)                 │          \u001b[38;5;34m30,100\u001b[0m │\n",
              "├──────────────────────────────────────┼─────────────────────────────┼─────────────────┤\n",
              "│ dense_2 (\u001b[38;5;33mDense\u001b[0m)                      │ (\u001b[38;5;45mNone\u001b[0m, \u001b[38;5;34m10\u001b[0m)                  │           \u001b[38;5;34m1,010\u001b[0m │\n",
              "└──────────────────────────────────────┴─────────────────────────────┴─────────────────┘\n"
            ],
            "text/html": [
              "<pre style=\"white-space:pre;overflow-x:auto;line-height:normal;font-family:Menlo,'DejaVu Sans Mono',consolas,'Courier New',monospace\">┏━━━━━━━━━━━━━━━━━━━━━━━━━━━━━━━━━━━━━━┳━━━━━━━━━━━━━━━━━━━━━━━━━━━━━┳━━━━━━━━━━━━━━━━━┓\n",
              "┃<span style=\"font-weight: bold\"> Layer (type)                         </span>┃<span style=\"font-weight: bold\"> Output Shape                </span>┃<span style=\"font-weight: bold\">         Param # </span>┃\n",
              "┡━━━━━━━━━━━━━━━━━━━━━━━━━━━━━━━━━━━━━━╇━━━━━━━━━━━━━━━━━━━━━━━━━━━━━╇━━━━━━━━━━━━━━━━━┩\n",
              "│ flatten (<span style=\"color: #0087ff; text-decoration-color: #0087ff\">Flatten</span>)                    │ (<span style=\"color: #00d7ff; text-decoration-color: #00d7ff\">None</span>, <span style=\"color: #00af00; text-decoration-color: #00af00\">784</span>)                 │               <span style=\"color: #00af00; text-decoration-color: #00af00\">0</span> │\n",
              "├──────────────────────────────────────┼─────────────────────────────┼─────────────────┤\n",
              "│ dense (<span style=\"color: #0087ff; text-decoration-color: #0087ff\">Dense</span>)                        │ (<span style=\"color: #00d7ff; text-decoration-color: #00d7ff\">None</span>, <span style=\"color: #00af00; text-decoration-color: #00af00\">300</span>)                 │         <span style=\"color: #00af00; text-decoration-color: #00af00\">235,500</span> │\n",
              "├──────────────────────────────────────┼─────────────────────────────┼─────────────────┤\n",
              "│ dense_1 (<span style=\"color: #0087ff; text-decoration-color: #0087ff\">Dense</span>)                      │ (<span style=\"color: #00d7ff; text-decoration-color: #00d7ff\">None</span>, <span style=\"color: #00af00; text-decoration-color: #00af00\">100</span>)                 │          <span style=\"color: #00af00; text-decoration-color: #00af00\">30,100</span> │\n",
              "├──────────────────────────────────────┼─────────────────────────────┼─────────────────┤\n",
              "│ dense_2 (<span style=\"color: #0087ff; text-decoration-color: #0087ff\">Dense</span>)                      │ (<span style=\"color: #00d7ff; text-decoration-color: #00d7ff\">None</span>, <span style=\"color: #00af00; text-decoration-color: #00af00\">10</span>)                  │           <span style=\"color: #00af00; text-decoration-color: #00af00\">1,010</span> │\n",
              "└──────────────────────────────────────┴─────────────────────────────┴─────────────────┘\n",
              "</pre>\n"
            ]
          },
          "metadata": {}
        },
        {
          "output_type": "display_data",
          "data": {
            "text/plain": [
              "\u001b[1m Total params: \u001b[0m\u001b[38;5;34m266,610\u001b[0m (1.02 MB)\n"
            ],
            "text/html": [
              "<pre style=\"white-space:pre;overflow-x:auto;line-height:normal;font-family:Menlo,'DejaVu Sans Mono',consolas,'Courier New',monospace\"><span style=\"font-weight: bold\"> Total params: </span><span style=\"color: #00af00; text-decoration-color: #00af00\">266,610</span> (1.02 MB)\n",
              "</pre>\n"
            ]
          },
          "metadata": {}
        },
        {
          "output_type": "display_data",
          "data": {
            "text/plain": [
              "\u001b[1m Trainable params: \u001b[0m\u001b[38;5;34m266,610\u001b[0m (1.02 MB)\n"
            ],
            "text/html": [
              "<pre style=\"white-space:pre;overflow-x:auto;line-height:normal;font-family:Menlo,'DejaVu Sans Mono',consolas,'Courier New',monospace\"><span style=\"font-weight: bold\"> Trainable params: </span><span style=\"color: #00af00; text-decoration-color: #00af00\">266,610</span> (1.02 MB)\n",
              "</pre>\n"
            ]
          },
          "metadata": {}
        },
        {
          "output_type": "display_data",
          "data": {
            "text/plain": [
              "\u001b[1m Non-trainable params: \u001b[0m\u001b[38;5;34m0\u001b[0m (0.00 B)\n"
            ],
            "text/html": [
              "<pre style=\"white-space:pre;overflow-x:auto;line-height:normal;font-family:Menlo,'DejaVu Sans Mono',consolas,'Courier New',monospace\"><span style=\"font-weight: bold\"> Non-trainable params: </span><span style=\"color: #00af00; text-decoration-color: #00af00\">0</span> (0.00 B)\n",
              "</pre>\n"
            ]
          },
          "metadata": {}
        }
      ]
    },
    {
      "cell_type": "code",
      "source": [
        "tf.keras.utils.plot_model(model, show_shapes=True, dpi=100)"
      ],
      "metadata": {
        "colab": {
          "base_uri": "https://localhost:8080/",
          "height": 645
        },
        "id": "YMi5L3PDjYAZ",
        "outputId": "77f57c6a-5e36-4b06-ff95-e405b86c0829"
      },
      "execution_count": null,
      "outputs": [
        {
          "output_type": "execute_result",
          "data": {
            "image/png": "[encoded data removed]",
            "text/plain": [
              "<IPython.core.display.Image object>"
            ]
          },
          "metadata": {},
          "execution_count": 12
        }
      ]
    },
    {
      "cell_type": "code",
      "source": [
        "model.layers"
      ],
      "metadata": {
        "colab": {
          "base_uri": "https://localhost:8080/"
        },
        "id": "BV9B5zOOlkrA",
        "outputId": "d4fb7fed-cf41-4752-bca5-5e098d156359"
      },
      "execution_count": null,
      "outputs": [
        {
          "output_type": "execute_result",
          "data": {
            "text/plain": [
              "[<Flatten name=flatten, built=True>,\n",
              " <Dense name=dense, built=True>,\n",
              " <Dense name=dense_1, built=True>,\n",
              " <Dense name=dense_2, built=True>]"
            ]
          },
          "metadata": {},
          "execution_count": 13
        }
      ]
    },
    {
      "cell_type": "code",
      "source": [
        "hidden1 = model.layers[1]\n",
        "hidden1.name"
      ],
      "metadata": {
        "colab": {
          "base_uri": "https://localhost:8080/",
          "height": 35
        },
        "id": "xRrNFipflpxf",
        "outputId": "1a955cea-f566-4797-b6d9-4a2cea58f145"
      },
      "execution_count": null,
      "outputs": [
        {
          "output_type": "execute_result",
          "data": {
            "text/plain": [
              "'dense'"
            ],
            "application/vnd.google.colaboratory.intrinsic+json": {
              "type": "string"
            }
          },
          "metadata": {},
          "execution_count": 14
        }
      ]
    },
    {
      "cell_type": "code",
      "source": [
        "model.get_layer('dense') is hidden1"
      ],
      "metadata": {
        "colab": {
          "base_uri": "https://localhost:8080/"
        },
        "id": "ht80MIFzl5WJ",
        "outputId": "ddef71f1-a5aa-4500-f210-87ce376567ea"
      },
      "execution_count": null,
      "outputs": [
        {
          "output_type": "execute_result",
          "data": {
            "text/plain": [
              "True"
            ]
          },
          "metadata": {},
          "execution_count": 15
        }
      ]
    },
    {
      "cell_type": "code",
      "source": [
        "weights, biases = hidden1.get_weights()\n",
        "weights"
      ],
      "metadata": {
        "colab": {
          "base_uri": "https://localhost:8080/"
        },
        "collapsed": true,
        "id": "RgG8JPtymB3m",
        "outputId": "fefdb755-1c5a-4f43-e7f1-e8db9736d62e"
      },
      "execution_count": null,
      "outputs": [
        {
          "output_type": "execute_result",
          "data": {
            "text/plain": [
              "array([[ 0.02489426,  0.06881018, -0.00452175, ...,  0.03089657,\n",
              "         0.02992372,  0.03429804],\n",
              "       [-0.05549302,  0.00389654, -0.05013569, ...,  0.04474901,\n",
              "        -0.03096281, -0.00799967],\n",
              "       [ 0.05725475, -0.02614838,  0.06023158, ..., -0.06487026,\n",
              "         0.02968723,  0.07163137],\n",
              "       ...,\n",
              "       [-0.06325331, -0.02081344, -0.0242143 , ..., -0.06939552,\n",
              "         0.0672321 , -0.00818073],\n",
              "       [ 0.0120045 ,  0.0083487 ,  0.06139573, ..., -0.01745765,\n",
              "        -0.03275415, -0.0583836 ],\n",
              "       [ 0.06964567, -0.01636604,  0.01596247, ...,  0.07081945,\n",
              "        -0.06720935, -0.00927408]], dtype=float32)"
            ]
          },
          "metadata": {},
          "execution_count": 16
        }
      ]
    },
    {
      "cell_type": "code",
      "source": [
        "biases"
      ],
      "metadata": {
        "colab": {
          "base_uri": "https://localhost:8080/"
        },
        "collapsed": true,
        "id": "s5ZJujlmmfmq",
        "outputId": "2b24f7a2-c4b3-4a60-eee1-51459c15742f"
      },
      "execution_count": null,
      "outputs": [
        {
          "output_type": "execute_result",
          "data": {
            "text/plain": [
              "array([0., 0., 0., 0., 0., 0., 0., 0., 0., 0., 0., 0., 0., 0., 0., 0., 0.,\n",
              "       0., 0., 0., 0., 0., 0., 0., 0., 0., 0., 0., 0., 0., 0., 0., 0., 0.,\n",
              "       0., 0., 0., 0., 0., 0., 0., 0., 0., 0., 0., 0., 0., 0., 0., 0., 0.,\n",
              "       0., 0., 0., 0., 0., 0., 0., 0., 0., 0., 0., 0., 0., 0., 0., 0., 0.,\n",
              "       0., 0., 0., 0., 0., 0., 0., 0., 0., 0., 0., 0., 0., 0., 0., 0., 0.,\n",
              "       0., 0., 0., 0., 0., 0., 0., 0., 0., 0., 0., 0., 0., 0., 0., 0., 0.,\n",
              "       0., 0., 0., 0., 0., 0., 0., 0., 0., 0., 0., 0., 0., 0., 0., 0., 0.,\n",
              "       0., 0., 0., 0., 0., 0., 0., 0., 0., 0., 0., 0., 0., 0., 0., 0., 0.,\n",
              "       0., 0., 0., 0., 0., 0., 0., 0., 0., 0., 0., 0., 0., 0., 0., 0., 0.,\n",
              "       0., 0., 0., 0., 0., 0., 0., 0., 0., 0., 0., 0., 0., 0., 0., 0., 0.,\n",
              "       0., 0., 0., 0., 0., 0., 0., 0., 0., 0., 0., 0., 0., 0., 0., 0., 0.,\n",
              "       0., 0., 0., 0., 0., 0., 0., 0., 0., 0., 0., 0., 0., 0., 0., 0., 0.,\n",
              "       0., 0., 0., 0., 0., 0., 0., 0., 0., 0., 0., 0., 0., 0., 0., 0., 0.,\n",
              "       0., 0., 0., 0., 0., 0., 0., 0., 0., 0., 0., 0., 0., 0., 0., 0., 0.,\n",
              "       0., 0., 0., 0., 0., 0., 0., 0., 0., 0., 0., 0., 0., 0., 0., 0., 0.,\n",
              "       0., 0., 0., 0., 0., 0., 0., 0., 0., 0., 0., 0., 0., 0., 0., 0., 0.,\n",
              "       0., 0., 0., 0., 0., 0., 0., 0., 0., 0., 0., 0., 0., 0., 0., 0., 0.,\n",
              "       0., 0., 0., 0., 0., 0., 0., 0., 0., 0., 0.], dtype=float32)"
            ]
          },
          "metadata": {},
          "execution_count": 17
        }
      ]
    },
    {
      "cell_type": "markdown",
      "source": [
        "# Compiling the model"
      ],
      "metadata": {
        "id": "cxZNMtxQo1z6"
      }
    },
    {
      "cell_type": "code",
      "source": [
        "model.compile(\n",
        "    loss = 'sparse_categorical_crossentropy',\n",
        "    optimizer = 'sgd',\n",
        "    metrics = ['accuracy']\n",
        ")"
      ],
      "metadata": {
        "id": "4_yInZtIm5FD"
      },
      "execution_count": null,
      "outputs": []
    },
    {
      "cell_type": "code",
      "source": [
        "model.compile(\n",
        "    loss = tf.keras.losses.sparse_categorical_crossentropy,\n",
        "    optimizer = tf.keras.optimizers.SGD(),\n",
        "    metrics = [tf.keras.metrics.sparse_categorical_accuracy]\n",
        ")"
      ],
      "metadata": {
        "id": "KC9Q3eTUn734"
      },
      "execution_count": null,
      "outputs": []
    },
    {
      "cell_type": "code",
      "source": [
        "tf.keras.utils.to_categorical((0,5, 1,0), num_classes=10)"
      ],
      "metadata": {
        "colab": {
          "base_uri": "https://localhost:8080/"
        },
        "id": "fy0RnRoWobWM",
        "outputId": "f4a3e5a4-cf9c-4d08-c4ca-8b78e6edd118"
      },
      "execution_count": null,
      "outputs": [
        {
          "output_type": "execute_result",
          "data": {
            "text/plain": [
              "array([[1., 0., 0., 0., 0., 0., 0., 0., 0., 0.],\n",
              "       [0., 0., 0., 0., 0., 1., 0., 0., 0., 0.],\n",
              "       [0., 1., 0., 0., 0., 0., 0., 0., 0., 0.],\n",
              "       [1., 0., 0., 0., 0., 0., 0., 0., 0., 0.]])"
            ]
          },
          "metadata": {},
          "execution_count": 20
        }
      ]
    },
    {
      "cell_type": "code",
      "source": [
        "# import numpy as np\n",
        "\n",
        "# np.array(\n",
        "#     [[1., 0., 0., 0., 0., 0., 0., 0., 0., 0.],\n",
        "#        [0., 0., 0., 0., 0., 1., 0., 0., 0., 0.],\n",
        "#        [0., 1., 0., 0., 0., 0., 0., 0., 0., 0.],\n",
        "#        [1., 0., 0., 0., 0., 0., 0., 0., 0., 0.]],\n",
        "#     axis=1\n",
        "# )"
      ],
      "metadata": {
        "id": "vqVRAYa6pxeM"
      },
      "execution_count": null,
      "outputs": []
    },
    {
      "cell_type": "markdown",
      "source": [
        "# Training and evaluating the model"
      ],
      "metadata": {
        "id": "r1ILPMZAqGhX"
      }
    },
    {
      "cell_type": "code",
      "source": [
        "history = model.fit(X_train, y_train, epochs=30,\n",
        "                    validation_data = (X_valid, y_valid))"
      ],
      "metadata": {
        "colab": {
          "base_uri": "https://localhost:8080/"
        },
        "id": "gaA0kLJmqX1F",
        "outputId": "b0428c68-e2e7-446f-f544-e4b4ada2a47c"
      },
      "execution_count": null,
      "outputs": [
        {
          "output_type": "stream",
          "name": "stdout",
          "text": [
            "Epoch 1/30\n",
            "\u001b[1m1719/1719\u001b[0m \u001b[32m━━━━━━━━━━━━━━━━━━━━\u001b[0m\u001b[37m\u001b[0m \u001b[1m10s\u001b[0m 3ms/step - loss: 0.9633 - sparse_categorical_accuracy: 0.6953 - val_loss: 0.5052 - val_sparse_categorical_accuracy: 0.8296\n",
            "Epoch 2/30\n",
            "\u001b[1m1719/1719\u001b[0m \u001b[32m━━━━━━━━━━━━━━━━━━━━\u001b[0m\u001b[37m\u001b[0m \u001b[1m7s\u001b[0m 3ms/step - loss: 0.5062 - sparse_categorical_accuracy: 0.8253 - val_loss: 0.4557 - val_sparse_categorical_accuracy: 0.8382\n",
            "Epoch 3/30\n",
            "\u001b[1m1719/1719\u001b[0m \u001b[32m━━━━━━━━━━━━━━━━━━━━\u001b[0m\u001b[37m\u001b[0m \u001b[1m7s\u001b[0m 4ms/step - loss: 0.4541 - sparse_categorical_accuracy: 0.8438 - val_loss: 0.4336 - val_sparse_categorical_accuracy: 0.8444\n",
            "Epoch 4/30\n",
            "\u001b[1m1719/1719\u001b[0m \u001b[32m━━━━━━━━━━━━━━━━━━━━\u001b[0m\u001b[37m\u001b[0m \u001b[1m9s\u001b[0m 3ms/step - loss: 0.4239 - sparse_categorical_accuracy: 0.8539 - val_loss: 0.4168 - val_sparse_categorical_accuracy: 0.8492\n",
            "Epoch 5/30\n",
            "\u001b[1m1719/1719\u001b[0m \u001b[32m━━━━━━━━━━━━━━━━━━━━\u001b[0m\u001b[37m\u001b[0m \u001b[1m5s\u001b[0m 3ms/step - loss: 0.4022 - sparse_categorical_accuracy: 0.8593 - val_loss: 0.4063 - val_sparse_categorical_accuracy: 0.8524\n",
            "Epoch 6/30\n",
            "\u001b[1m1719/1719\u001b[0m \u001b[32m━━━━━━━━━━━━━━━━━━━━\u001b[0m\u001b[37m\u001b[0m \u001b[1m5s\u001b[0m 2ms/step - loss: 0.3853 - sparse_categorical_accuracy: 0.8644 - val_loss: 0.3967 - val_sparse_categorical_accuracy: 0.8530\n",
            "Epoch 7/30\n",
            "\u001b[1m1719/1719\u001b[0m \u001b[32m━━━━━━━━━━━━━━━━━━━━\u001b[0m\u001b[37m\u001b[0m \u001b[1m5s\u001b[0m 2ms/step - loss: 0.3712 - sparse_categorical_accuracy: 0.8684 - val_loss: 0.3900 - val_sparse_categorical_accuracy: 0.8548\n",
            "Epoch 8/30\n",
            "\u001b[1m1719/1719\u001b[0m \u001b[32m━━━━━━━━━━━━━━━━━━━━\u001b[0m\u001b[37m\u001b[0m \u001b[1m4s\u001b[0m 2ms/step - loss: 0.3587 - sparse_categorical_accuracy: 0.8725 - val_loss: 0.3828 - val_sparse_categorical_accuracy: 0.8578\n",
            "Epoch 9/30\n",
            "\u001b[1m1719/1719\u001b[0m \u001b[32m━━━━━━━━━━━━━━━━━━━━\u001b[0m\u001b[37m\u001b[0m \u001b[1m5s\u001b[0m 3ms/step - loss: 0.3478 - sparse_categorical_accuracy: 0.8765 - val_loss: 0.3783 - val_sparse_categorical_accuracy: 0.8606\n",
            "Epoch 10/30\n",
            "\u001b[1m1719/1719\u001b[0m \u001b[32m━━━━━━━━━━━━━━━━━━━━\u001b[0m\u001b[37m\u001b[0m \u001b[1m4s\u001b[0m 3ms/step - loss: 0.3381 - sparse_categorical_accuracy: 0.8802 - val_loss: 0.3738 - val_sparse_categorical_accuracy: 0.8632\n",
            "Epoch 11/30\n",
            "\u001b[1m1719/1719\u001b[0m \u001b[32m━━━━━━━━━━━━━━━━━━━━\u001b[0m\u001b[37m\u001b[0m \u001b[1m4s\u001b[0m 2ms/step - loss: 0.3288 - sparse_categorical_accuracy: 0.8826 - val_loss: 0.3708 - val_sparse_categorical_accuracy: 0.8650\n",
            "Epoch 12/30\n",
            "\u001b[1m1719/1719\u001b[0m \u001b[32m━━━━━━━━━━━━━━━━━━━━\u001b[0m\u001b[37m\u001b[0m \u001b[1m5s\u001b[0m 3ms/step - loss: 0.3203 - sparse_categorical_accuracy: 0.8854 - val_loss: 0.3673 - val_sparse_categorical_accuracy: 0.8688\n",
            "Epoch 13/30\n",
            "\u001b[1m1719/1719\u001b[0m \u001b[32m━━━━━━━━━━━━━━━━━━━━\u001b[0m\u001b[37m\u001b[0m \u001b[1m4s\u001b[0m 2ms/step - loss: 0.3125 - sparse_categorical_accuracy: 0.8874 - val_loss: 0.3656 - val_sparse_categorical_accuracy: 0.8676\n",
            "Epoch 14/30\n",
            "\u001b[1m1719/1719\u001b[0m \u001b[32m━━━━━━━━━━━━━━━━━━━━\u001b[0m\u001b[37m\u001b[0m \u001b[1m6s\u001b[0m 3ms/step - loss: 0.3050 - sparse_categorical_accuracy: 0.8899 - val_loss: 0.3627 - val_sparse_categorical_accuracy: 0.8668\n",
            "Epoch 15/30\n",
            "\u001b[1m1719/1719\u001b[0m \u001b[32m━━━━━━━━━━━━━━━━━━━━\u001b[0m\u001b[37m\u001b[0m \u001b[1m4s\u001b[0m 2ms/step - loss: 0.2982 - sparse_categorical_accuracy: 0.8920 - val_loss: 0.3607 - val_sparse_categorical_accuracy: 0.8672\n",
            "Epoch 16/30\n",
            "\u001b[1m1719/1719\u001b[0m \u001b[32m━━━━━━━━━━━━━━━━━━━━\u001b[0m\u001b[37m\u001b[0m \u001b[1m4s\u001b[0m 2ms/step - loss: 0.2917 - sparse_categorical_accuracy: 0.8950 - val_loss: 0.3597 - val_sparse_categorical_accuracy: 0.8676\n",
            "Epoch 17/30\n",
            "\u001b[1m1719/1719\u001b[0m \u001b[32m━━━━━━━━━━━━━━━━━━━━\u001b[0m\u001b[37m\u001b[0m \u001b[1m5s\u001b[0m 3ms/step - loss: 0.2857 - sparse_categorical_accuracy: 0.8967 - val_loss: 0.3585 - val_sparse_categorical_accuracy: 0.8698\n",
            "Epoch 18/30\n",
            "\u001b[1m1719/1719\u001b[0m \u001b[32m━━━━━━━━━━━━━━━━━━━━\u001b[0m\u001b[37m\u001b[0m \u001b[1m4s\u001b[0m 2ms/step - loss: 0.2799 - sparse_categorical_accuracy: 0.8995 - val_loss: 0.3574 - val_sparse_categorical_accuracy: 0.8704\n",
            "Epoch 19/30\n",
            "\u001b[1m1719/1719\u001b[0m \u001b[32m━━━━━━━━━━━━━━━━━━━━\u001b[0m\u001b[37m\u001b[0m \u001b[1m4s\u001b[0m 2ms/step - loss: 0.2745 - sparse_categorical_accuracy: 0.9016 - val_loss: 0.3573 - val_sparse_categorical_accuracy: 0.8696\n",
            "Epoch 20/30\n",
            "\u001b[1m1719/1719\u001b[0m \u001b[32m━━━━━━━━━━━━━━━━━━━━\u001b[0m\u001b[37m\u001b[0m \u001b[1m6s\u001b[0m 3ms/step - loss: 0.2693 - sparse_categorical_accuracy: 0.9036 - val_loss: 0.3587 - val_sparse_categorical_accuracy: 0.8694\n",
            "Epoch 21/30\n",
            "\u001b[1m1719/1719\u001b[0m \u001b[32m━━━━━━━━━━━━━━━━━━━━\u001b[0m\u001b[37m\u001b[0m \u001b[1m9s\u001b[0m 3ms/step - loss: 0.2642 - sparse_categorical_accuracy: 0.9053 - val_loss: 0.3568 - val_sparse_categorical_accuracy: 0.8696\n",
            "Epoch 22/30\n",
            "\u001b[1m1719/1719\u001b[0m \u001b[32m━━━━━━━━━━━━━━━━━━━━\u001b[0m\u001b[37m\u001b[0m \u001b[1m4s\u001b[0m 2ms/step - loss: 0.2592 - sparse_categorical_accuracy: 0.9071 - val_loss: 0.3573 - val_sparse_categorical_accuracy: 0.8692\n",
            "Epoch 23/30\n",
            "\u001b[1m1719/1719\u001b[0m \u001b[32m━━━━━━━━━━━━━━━━━━━━\u001b[0m\u001b[37m\u001b[0m \u001b[1m5s\u001b[0m 2ms/step - loss: 0.2545 - sparse_categorical_accuracy: 0.9093 - val_loss: 0.3549 - val_sparse_categorical_accuracy: 0.8700\n",
            "Epoch 24/30\n",
            "\u001b[1m1719/1719\u001b[0m \u001b[32m━━━━━━━━━━━━━━━━━━━━\u001b[0m\u001b[37m\u001b[0m \u001b[1m6s\u001b[0m 3ms/step - loss: 0.2497 - sparse_categorical_accuracy: 0.9111 - val_loss: 0.3553 - val_sparse_categorical_accuracy: 0.8702\n",
            "Epoch 25/30\n",
            "\u001b[1m1719/1719\u001b[0m \u001b[32m━━━━━━━━━━━━━━━━━━━━\u001b[0m\u001b[37m\u001b[0m \u001b[1m4s\u001b[0m 2ms/step - loss: 0.2452 - sparse_categorical_accuracy: 0.9126 - val_loss: 0.3555 - val_sparse_categorical_accuracy: 0.8710\n",
            "Epoch 26/30\n",
            "\u001b[1m1719/1719\u001b[0m \u001b[32m━━━━━━━━━━━━━━━━━━━━\u001b[0m\u001b[37m\u001b[0m \u001b[1m5s\u001b[0m 3ms/step - loss: 0.2409 - sparse_categorical_accuracy: 0.9138 - val_loss: 0.3573 - val_sparse_categorical_accuracy: 0.8724\n",
            "Epoch 27/30\n",
            "\u001b[1m1719/1719\u001b[0m \u001b[32m━━━━━━━━━━━━━━━━━━━━\u001b[0m\u001b[37m\u001b[0m \u001b[1m4s\u001b[0m 2ms/step - loss: 0.2367 - sparse_categorical_accuracy: 0.9153 - val_loss: 0.3551 - val_sparse_categorical_accuracy: 0.8726\n",
            "Epoch 28/30\n",
            "\u001b[1m1719/1719\u001b[0m \u001b[32m━━━━━━━━━━━━━━━━━━━━\u001b[0m\u001b[37m\u001b[0m \u001b[1m5s\u001b[0m 2ms/step - loss: 0.2325 - sparse_categorical_accuracy: 0.9172 - val_loss: 0.3540 - val_sparse_categorical_accuracy: 0.8720\n",
            "Epoch 29/30\n",
            "\u001b[1m1719/1719\u001b[0m \u001b[32m━━━━━━━━━━━━━━━━━━━━\u001b[0m\u001b[37m\u001b[0m \u001b[1m6s\u001b[0m 3ms/step - loss: 0.2284 - sparse_categorical_accuracy: 0.9192 - val_loss: 0.3537 - val_sparse_categorical_accuracy: 0.8742\n",
            "Epoch 30/30\n",
            "\u001b[1m1719/1719\u001b[0m \u001b[32m━━━━━━━━━━━━━━━━━━━━\u001b[0m\u001b[37m\u001b[0m \u001b[1m4s\u001b[0m 2ms/step - loss: 0.2245 - sparse_categorical_accuracy: 0.9201 - val_loss: 0.3541 - val_sparse_categorical_accuracy: 0.8750\n"
          ]
        }
      ]
    },
    {
      "cell_type": "code",
      "source": [
        "history.params"
      ],
      "metadata": {
        "colab": {
          "base_uri": "https://localhost:8080/"
        },
        "id": "uBOS34FlswD4",
        "outputId": "6cba3f09-fdd5-4786-ab35-b93c59ed34ca"
      },
      "execution_count": null,
      "outputs": [
        {
          "output_type": "execute_result",
          "data": {
            "text/plain": [
              "{'verbose': 'auto', 'epochs': 30, 'steps': 1719}"
            ]
          },
          "metadata": {},
          "execution_count": 23
        }
      ]
    },
    {
      "cell_type": "code",
      "source": [
        "print(history.epoch)"
      ],
      "metadata": {
        "colab": {
          "base_uri": "https://localhost:8080/"
        },
        "id": "q92B5nods0nQ",
        "outputId": "34de3dcd-27cd-4134-811c-f42660397c9c"
      },
      "execution_count": null,
      "outputs": [
        {
          "output_type": "stream",
          "name": "stdout",
          "text": [
            "[0, 1, 2, 3, 4, 5, 6, 7, 8, 9, 10, 11, 12, 13, 14, 15, 16, 17, 18, 19, 20, 21, 22, 23, 24, 25, 26, 27, 28, 29]\n"
          ]
        }
      ]
    },
    {
      "cell_type": "code",
      "source": [
        "history.history"
      ],
      "metadata": {
        "colab": {
          "base_uri": "https://localhost:8080/"
        },
        "id": "ijZnFtfUs6Yf",
        "outputId": "1d763045-22ff-4e06-c4c2-e12bc49a6567"
      },
      "execution_count": null,
      "outputs": [
        {
          "output_type": "execute_result",
          "data": {
            "text/plain": [
              "{'loss': [0.7023531198501587,\n",
              "  0.4867214560508728,\n",
              "  0.44262799620628357,\n",
              "  0.41544127464294434,\n",
              "  0.39544662833213806,\n",
              "  0.3797595798969269,\n",
              "  0.3664644956588745,\n",
              "  0.354906290769577,\n",
              "  0.3446034789085388,\n",
              "  0.33521395921707153,\n",
              "  0.326431542634964,\n",
              "  0.31840458512306213,\n",
              "  0.3108135163784027,\n",
              "  0.3037109375,\n",
              "  0.29706433415412903,\n",
              "  0.2909354865550995,\n",
              "  0.28509530425071716,\n",
              "  0.2795526385307312,\n",
              "  0.2740865647792816,\n",
              "  0.2690369784832001,\n",
              "  0.2640068829059601,\n",
              "  0.25915107131004333,\n",
              "  0.25455519556999207,\n",
              "  0.24997466802597046,\n",
              "  0.24554255604743958,\n",
              "  0.24119623005390167,\n",
              "  0.23707623779773712,\n",
              "  0.23297002911567688,\n",
              "  0.22895461320877075,\n",
              "  0.22507423162460327],\n",
              " 'sparse_categorical_accuracy': [0.7662909030914307,\n",
              "  0.8308181762695312,\n",
              "  0.8466545343399048,\n",
              "  0.8553636074066162,\n",
              "  0.861018180847168,\n",
              "  0.8661817908287048,\n",
              "  0.8702545166015625,\n",
              "  0.8737636208534241,\n",
              "  0.8772545456886292,\n",
              "  0.8805636167526245,\n",
              "  0.8831999897956848,\n",
              "  0.8859817981719971,\n",
              "  0.8886181712150574,\n",
              "  0.8907091021537781,\n",
              "  0.8926727175712585,\n",
              "  0.8951636552810669,\n",
              "  0.897636353969574,\n",
              "  0.8998363614082336,\n",
              "  0.9017999768257141,\n",
              "  0.9036727547645569,\n",
              "  0.9050363898277283,\n",
              "  0.906781792640686,\n",
              "  0.9090363383293152,\n",
              "  0.9104545712471008,\n",
              "  0.9118727445602417,\n",
              "  0.9137272834777832,\n",
              "  0.9151272773742676,\n",
              "  0.9171454310417175,\n",
              "  0.9188908934593201,\n",
              "  0.920090913772583],\n",
              " 'val_loss': [0.5051721334457397,\n",
              "  0.4556705951690674,\n",
              "  0.43363091349601746,\n",
              "  0.4168024957180023,\n",
              "  0.40625011920928955,\n",
              "  0.3966514766216278,\n",
              "  0.3900413513183594,\n",
              "  0.38283106684684753,\n",
              "  0.3782823979854584,\n",
              "  0.3738158047199249,\n",
              "  0.3707577586174011,\n",
              "  0.36732548475265503,\n",
              "  0.36562344431877136,\n",
              "  0.3626728951931,\n",
              "  0.36073213815689087,\n",
              "  0.35973992943763733,\n",
              "  0.3584910035133362,\n",
              "  0.3574090003967285,\n",
              "  0.3572823703289032,\n",
              "  0.3587394654750824,\n",
              "  0.3567647337913513,\n",
              "  0.3573240339756012,\n",
              "  0.3548598289489746,\n",
              "  0.35532861948013306,\n",
              "  0.3555006980895996,\n",
              "  0.35732102394104004,\n",
              "  0.35506221652030945,\n",
              "  0.3539595603942871,\n",
              "  0.35374391078948975,\n",
              "  0.3541282117366791],\n",
              " 'val_sparse_categorical_accuracy': [0.8295999765396118,\n",
              "  0.8381999731063843,\n",
              "  0.8443999886512756,\n",
              "  0.8492000102996826,\n",
              "  0.852400004863739,\n",
              "  0.8529999852180481,\n",
              "  0.8547999858856201,\n",
              "  0.8578000068664551,\n",
              "  0.8605999946594238,\n",
              "  0.8632000088691711,\n",
              "  0.8650000095367432,\n",
              "  0.8687999844551086,\n",
              "  0.8676000237464905,\n",
              "  0.8668000102043152,\n",
              "  0.8672000169754028,\n",
              "  0.8676000237464905,\n",
              "  0.8697999715805054,\n",
              "  0.8704000115394592,\n",
              "  0.8695999979972839,\n",
              "  0.8694000244140625,\n",
              "  0.8695999979972839,\n",
              "  0.8691999912261963,\n",
              "  0.8700000047683716,\n",
              "  0.870199978351593,\n",
              "  0.8709999918937683,\n",
              "  0.8723999857902527,\n",
              "  0.8726000189781189,\n",
              "  0.871999979019165,\n",
              "  0.8741999864578247,\n",
              "  0.875]}"
            ]
          },
          "metadata": {},
          "execution_count": 25
        }
      ]
    },
    {
      "cell_type": "code",
      "source": [
        "import matplotlib.pyplot as plt\n",
        "import pandas as pd\n",
        "\n",
        "plt.figure(figsize = (8,4))\n",
        "pd.DataFrame(history.history).plot(figsize = (8,5), xlim=[0,29], ylim=[0,1], grid=True,\n",
        "                                   style=['r-', 'r--', 'b-', 'b--'], label=True)\n",
        "\n",
        "plt.legend(loc = 'lower left')\n",
        "plt.show()"
      ],
      "metadata": {
        "colab": {
          "base_uri": "https://localhost:8080/",
          "height": 468
        },
        "id": "UOo3JzJ-tDur",
        "outputId": "1bfda2f6-b001-42bf-81fa-8c9a8c660795"
      },
      "execution_count": null,
      "outputs": [
        {
          "output_type": "display_data",
          "data": {
            "text/plain": [
              "<Figure size 800x400 with 0 Axes>"
            ]
          },
          "metadata": {}
        },
        {
          "output_type": "display_data",
          "data": {
            "text/plain": [
              "<Figure size 800x500 with 1 Axes>"
            ],
            "image/png": "[encoded data removed]"
          },
          "metadata": {}
        }
      ]
    },
    {
      "cell_type": "code",
      "source": [
        "plt.plot(history.history['sparse_categorical_accuracy'], label = 'Training')\n",
        "plt.plot(history.history['val_sparse_categorical_accuracy'], label = 'Validation')\n",
        "plt.legend()\n",
        "plt.grid()\n",
        "plt.show()"
      ],
      "metadata": {
        "colab": {
          "base_uri": "https://localhost:8080/",
          "height": 430
        },
        "id": "9yVYsFk7uJd5",
        "outputId": "15c08399-3520-4c66-ccac-e0d32720c218"
      },
      "execution_count": null,
      "outputs": [
        {
          "output_type": "display_data",
          "data": {
            "text/plain": [
              "<Figure size 640x480 with 1 Axes>"
            ],
            "image/png": "[encoded data removed]"
          },
          "metadata": {}
        }
      ]
    },
    {
      "cell_type": "code",
      "source": [
        "model.evaluate(X_test, y_test)"
      ],
      "metadata": {
        "colab": {
          "base_uri": "https://localhost:8080/"
        },
        "id": "YHW7-pUDvHSi",
        "outputId": "5ec306fd-563f-4cd1-ebd8-9894969ff97c"
      },
      "execution_count": null,
      "outputs": [
        {
          "output_type": "stream",
          "name": "stdout",
          "text": [
            "\u001b[1m313/313\u001b[0m \u001b[32m━━━━━━━━━━━━━━━━━━━━\u001b[0m\u001b[37m\u001b[0m \u001b[1m1s\u001b[0m 3ms/step - loss: 0.3685 - sparse_categorical_accuracy: 0.8752\n"
          ]
        },
        {
          "output_type": "execute_result",
          "data": {
            "text/plain": [
              "[0.3684535026550293, 0.8744999766349792]"
            ]
          },
          "metadata": {},
          "execution_count": 28
        }
      ]
    },
    {
      "cell_type": "code",
      "source": [
        "X_new = X_test[:3]\n",
        "y_proba = model.predict(X_new)\n",
        "y_proba.round(2)"
      ],
      "metadata": {
        "colab": {
          "base_uri": "https://localhost:8080/"
        },
        "id": "m0vMaMoQvUv9",
        "outputId": "171f1a44-6961-4aff-e8ba-5df02c5dbf7d"
      },
      "execution_count": null,
      "outputs": [
        {
          "output_type": "stream",
          "name": "stdout",
          "text": [
            "\u001b[1m1/1\u001b[0m \u001b[32m━━━━━━━━━━━━━━━━━━━━\u001b[0m\u001b[37m\u001b[0m \u001b[1m0s\u001b[0m 312ms/step\n"
          ]
        },
        {
          "output_type": "execute_result",
          "data": {
            "text/plain": [
              "array([[0.  , 0.  , 0.  , 0.  , 0.  , 0.1 , 0.  , 0.01, 0.  , 0.88],\n",
              "       [0.  , 0.  , 1.  , 0.  , 0.  , 0.  , 0.  , 0.  , 0.  , 0.  ],\n",
              "       [0.  , 1.  , 0.  , 0.  , 0.  , 0.  , 0.  , 0.  , 0.  , 0.  ]],\n",
              "      dtype=float32)"
            ]
          },
          "metadata": {},
          "execution_count": 29
        }
      ]
    },
    {
      "cell_type": "code",
      "source": [
        "import numpy as np\n",
        "y_pred = np.argmax(y_proba, axis=1)\n",
        "y_pred"
      ],
      "metadata": {
        "colab": {
          "base_uri": "https://localhost:8080/"
        },
        "id": "Jj02kM3-v5e8",
        "outputId": "060585a5-28d7-43b6-921f-0f4e626f3406"
      },
      "execution_count": null,
      "outputs": [
        {
          "output_type": "execute_result",
          "data": {
            "text/plain": [
              "array([9, 2, 1])"
            ]
          },
          "metadata": {},
          "execution_count": 30
        }
      ]
    },
    {
      "cell_type": "code",
      "source": [
        "np.array(class_names)[y_pred]"
      ],
      "metadata": {
        "colab": {
          "base_uri": "https://localhost:8080/"
        },
        "id": "s6vA2npCwTw1",
        "outputId": "ffcec595-893a-43bc-dd3b-13fdbc006719"
      },
      "execution_count": null,
      "outputs": [
        {
          "output_type": "execute_result",
          "data": {
            "text/plain": [
              "array(['Ankle boot', 'Pullover', 'Trousers'], dtype='<U10')"
            ]
          },
          "metadata": {},
          "execution_count": 31
        }
      ]
    },
    {
      "cell_type": "code",
      "source": [
        "class_names[5]"
      ],
      "metadata": {
        "colab": {
          "base_uri": "https://localhost:8080/",
          "height": 35
        },
        "id": "b6U5GMFVwlAX",
        "outputId": "3567cdf1-d776-41b8-ccd2-abadf66aff8e"
      },
      "execution_count": null,
      "outputs": [
        {
          "output_type": "execute_result",
          "data": {
            "text/plain": [
              "'Sandal'"
            ],
            "application/vnd.google.colaboratory.intrinsic+json": {
              "type": "string"
            }
          },
          "metadata": {},
          "execution_count": 32
        }
      ]
    },
    {
      "cell_type": "code",
      "source": [
        "y_new = y_test[:3]\n",
        "y_new"
      ],
      "metadata": {
        "colab": {
          "base_uri": "https://localhost:8080/"
        },
        "id": "qt4rIhsNxb91",
        "outputId": "2223d718-b9d0-4875-808a-30b954d31ae3"
      },
      "execution_count": null,
      "outputs": [
        {
          "output_type": "execute_result",
          "data": {
            "text/plain": [
              "array([9, 2, 1], dtype=uint8)"
            ]
          },
          "metadata": {},
          "execution_count": 33
        }
      ]
    },
    {
      "cell_type": "code",
      "source": [
        "plt.figure(figsize= (7.2,2.4))\n",
        "for index, image in enumerate(X_new):\n",
        "  plt.subplot(1,3,index+1)\n",
        "  plt.imshow(image, cmap='binary', interpolation='nearest')\n",
        "  plt.axis('off')\n",
        "  plt.title(class_names[y_new[index]], fontsize=12, c='g' if y_pred[index] == y_new[index] else 'r')\n",
        "plt.subplots_adjust(wspace=0.2, hspace=0.5)"
      ],
      "metadata": {
        "colab": {
          "base_uri": "https://localhost:8080/",
          "height": 223
        },
        "id": "D8Wnl3xIwquf",
        "outputId": "10383bb1-2d5e-4b58-a6e4-38135a217cdc"
      },
      "execution_count": null,
      "outputs": [
        {
          "output_type": "display_data",
          "data": {
            "text/plain": [
              "<Figure size 720x240 with 3 Axes>"
            ],
            "image/png": "[encoded data removed]"
          },
          "metadata": {}
        }
      ]
    },
    {
      "cell_type": "markdown",
      "source": [
        "# Regression with MLP"
      ],
      "metadata": {
        "id": "aHvnnWNDx26Q"
      }
    },
    {
      "cell_type": "code",
      "source": [
        "from sklearn.datasets import fetch_california_housing\n",
        "from sklearn.model_selection import train_test_split\n",
        "\n",
        "housing = fetch_california_housing()\n",
        "X_train_full, X_test, y_train_full, y_test = train_test_split(housing.data, housing.target,random_state=42)\n",
        "X_train, X_valid, y_train, y_valid = train_test_split(X_train_full, y_train_full, random_state=42)"
      ],
      "metadata": {
        "id": "iFgElqRrFX9T"
      },
      "execution_count": null,
      "outputs": []
    },
    {
      "cell_type": "code",
      "source": [
        "X_train.shape"
      ],
      "metadata": {
        "colab": {
          "base_uri": "https://localhost:8080/"
        },
        "id": "gSrubBQwGaDh",
        "outputId": "1b5d0adf-47bf-4448-a6a7-78e1e6b125ae"
      },
      "execution_count": null,
      "outputs": [
        {
          "output_type": "execute_result",
          "data": {
            "text/plain": [
              "(11610, 8)"
            ]
          },
          "metadata": {},
          "execution_count": 36
        }
      ]
    },
    {
      "cell_type": "code",
      "source": [
        "tf.random.set_seed(42)\n",
        "tf.keras.backend.clear_session()\n",
        "\n",
        "norm_layer = tf.keras.layers.Normalization()\n",
        "\n",
        "model = tf.keras.Sequential([\n",
        "    tf.keras.layers.Input(shape=[8]),\n",
        "    norm_layer,\n",
        "    tf.keras.layers.Dense(30, activation='relu'),\n",
        "    tf.keras.layers.Dense(30,activation='relu'),\n",
        "    tf.keras.layers.Dense(1, activation='linear')\n",
        "])\n",
        "\n",
        "norm_layer.adapt(X_train)\n",
        "model.compile(loss='mse', optimizer='sgd', metrics=['RootMeanSquaredError'])\n",
        "history = model.fit(X_train, y_train, epochs=29, validation_data=(X_valid, y_valid))"
      ],
      "metadata": {
        "colab": {
          "base_uri": "https://localhost:8080/"
        },
        "id": "xUaLlTOgGda2",
        "outputId": "24b25b2c-e080-4581-ab14-eabf632a065e"
      },
      "execution_count": null,
      "outputs": [
        {
          "output_type": "stream",
          "name": "stdout",
          "text": [
            "Epoch 1/29\n",
            "\u001b[1m363/363\u001b[0m \u001b[32m━━━━━━━━━━━━━━━━━━━━\u001b[0m\u001b[37m\u001b[0m \u001b[1m3s\u001b[0m 6ms/step - RootMeanSquaredError: 1.0536 - loss: 1.1832 - val_RootMeanSquaredError: 1.5255 - val_loss: 2.3270\n",
            "Epoch 2/29\n",
            "\u001b[1m363/363\u001b[0m \u001b[32m━━━━━━━━━━━━━━━━━━━━\u001b[0m\u001b[37m\u001b[0m \u001b[1m1s\u001b[0m 3ms/step - RootMeanSquaredError: 0.6915 - loss: 0.4786 - val_RootMeanSquaredError: 1.6673 - val_loss: 2.7798\n",
            "Epoch 3/29\n",
            "\u001b[1m363/363\u001b[0m \u001b[32m━━━━━━━━━━━━━━━━━━━━\u001b[0m\u001b[37m\u001b[0m \u001b[1m1s\u001b[0m 3ms/step - RootMeanSquaredError: 0.6594 - loss: 0.4350 - val_RootMeanSquaredError: 0.6710 - val_loss: 0.4502\n",
            "Epoch 4/29\n",
            "\u001b[1m363/363\u001b[0m \u001b[32m━━━━━━━━━━━━━━━━━━━━\u001b[0m\u001b[37m\u001b[0m \u001b[1m1s\u001b[0m 3ms/step - RootMeanSquaredError: 0.6383 - loss: 0.4077 - val_RootMeanSquaredError: 0.5961 - val_loss: 0.3553\n",
            "Epoch 5/29\n",
            "\u001b[1m363/363\u001b[0m \u001b[32m━━━━━━━━━━━━━━━━━━━━\u001b[0m\u001b[37m\u001b[0m \u001b[1m1s\u001b[0m 3ms/step - RootMeanSquaredError: 0.6259 - loss: 0.3920 - val_RootMeanSquaredError: 0.5969 - val_loss: 0.3563\n",
            "Epoch 6/29\n",
            "\u001b[1m363/363\u001b[0m \u001b[32m━━━━━━━━━━━━━━━━━━━━\u001b[0m\u001b[37m\u001b[0m \u001b[1m1s\u001b[0m 3ms/step - RootMeanSquaredError: 0.6207 - loss: 0.3855 - val_RootMeanSquaredError: 0.6011 - val_loss: 0.3613\n",
            "Epoch 7/29\n",
            "\u001b[1m363/363\u001b[0m \u001b[32m━━━━━━━━━━━━━━━━━━━━\u001b[0m\u001b[37m\u001b[0m \u001b[1m2s\u001b[0m 5ms/step - RootMeanSquaredError: 0.6159 - loss: 0.3796 - val_RootMeanSquaredError: 0.6042 - val_loss: 0.3650\n",
            "Epoch 8/29\n",
            "\u001b[1m363/363\u001b[0m \u001b[32m━━━━━━━━━━━━━━━━━━━━\u001b[0m\u001b[37m\u001b[0m \u001b[1m2s\u001b[0m 3ms/step - RootMeanSquaredError: 0.6122 - loss: 0.3750 - val_RootMeanSquaredError: 0.6036 - val_loss: 0.3643\n",
            "Epoch 9/29\n",
            "\u001b[1m363/363\u001b[0m \u001b[32m━━━━━━━━━━━━━━━━━━━━\u001b[0m\u001b[37m\u001b[0m \u001b[1m1s\u001b[0m 3ms/step - RootMeanSquaredError: 0.6079 - loss: 0.3698 - val_RootMeanSquaredError: 0.6001 - val_loss: 0.3601\n",
            "Epoch 10/29\n",
            "\u001b[1m363/363\u001b[0m \u001b[32m━━━━━━━━━━━━━━━━━━━━\u001b[0m\u001b[37m\u001b[0m \u001b[1m1s\u001b[0m 3ms/step - RootMeanSquaredError: 0.6044 - loss: 0.3655 - val_RootMeanSquaredError: 0.5962 - val_loss: 0.3554\n",
            "Epoch 11/29\n",
            "\u001b[1m363/363\u001b[0m \u001b[32m━━━━━━━━━━━━━━━━━━━━\u001b[0m\u001b[37m\u001b[0m \u001b[1m1s\u001b[0m 3ms/step - RootMeanSquaredError: 0.6013 - loss: 0.3617 - val_RootMeanSquaredError: 0.5972 - val_loss: 0.3567\n",
            "Epoch 12/29\n",
            "\u001b[1m363/363\u001b[0m \u001b[32m━━━━━━━━━━━━━━━━━━━━\u001b[0m\u001b[37m\u001b[0m \u001b[1m1s\u001b[0m 3ms/step - RootMeanSquaredError: 0.5984 - loss: 0.3583 - val_RootMeanSquaredError: 0.5929 - val_loss: 0.3515\n",
            "Epoch 13/29\n",
            "\u001b[1m363/363\u001b[0m \u001b[32m━━━━━━━━━━━━━━━━━━━━\u001b[0m\u001b[37m\u001b[0m \u001b[1m1s\u001b[0m 3ms/step - RootMeanSquaredError: 0.5958 - loss: 0.3552 - val_RootMeanSquaredError: 0.5857 - val_loss: 0.3431\n",
            "Epoch 14/29\n",
            "\u001b[1m363/363\u001b[0m \u001b[32m━━━━━━━━━━━━━━━━━━━━\u001b[0m\u001b[37m\u001b[0m \u001b[1m1s\u001b[0m 3ms/step - RootMeanSquaredError: 0.5929 - loss: 0.3518 - val_RootMeanSquaredError: 0.5764 - val_loss: 0.3322\n",
            "Epoch 15/29\n",
            "\u001b[1m363/363\u001b[0m \u001b[32m━━━━━━━━━━━━━━━━━━━━\u001b[0m\u001b[37m\u001b[0m \u001b[1m1s\u001b[0m 3ms/step - RootMeanSquaredError: 0.5906 - loss: 0.3490 - val_RootMeanSquaredError: 0.5796 - val_loss: 0.3359\n",
            "Epoch 16/29\n",
            "\u001b[1m363/363\u001b[0m \u001b[32m━━━━━━━━━━━━━━━━━━━━\u001b[0m\u001b[37m\u001b[0m \u001b[1m2s\u001b[0m 5ms/step - RootMeanSquaredError: 0.5881 - loss: 0.3461 - val_RootMeanSquaredError: 0.5715 - val_loss: 0.3266\n",
            "Epoch 17/29\n",
            "\u001b[1m363/363\u001b[0m \u001b[32m━━━━━━━━━━━━━━━━━━━━\u001b[0m\u001b[37m\u001b[0m \u001b[1m2s\u001b[0m 3ms/step - RootMeanSquaredError: 0.5862 - loss: 0.3438 - val_RootMeanSquaredError: 0.5693 - val_loss: 0.3241\n",
            "Epoch 18/29\n",
            "\u001b[1m363/363\u001b[0m \u001b[32m━━━━━━━━━━━━━━━━━━━━\u001b[0m\u001b[37m\u001b[0m \u001b[1m1s\u001b[0m 3ms/step - RootMeanSquaredError: 0.5841 - loss: 0.3414 - val_RootMeanSquaredError: 0.5752 - val_loss: 0.3309\n",
            "Epoch 19/29\n",
            "\u001b[1m363/363\u001b[0m \u001b[32m━━━━━━━━━━━━━━━━━━━━\u001b[0m\u001b[37m\u001b[0m \u001b[1m1s\u001b[0m 3ms/step - RootMeanSquaredError: 0.5822 - loss: 0.3392 - val_RootMeanSquaredError: 0.5632 - val_loss: 0.3172\n",
            "Epoch 20/29\n",
            "\u001b[1m363/363\u001b[0m \u001b[32m━━━━━━━━━━━━━━━━━━━━\u001b[0m\u001b[37m\u001b[0m \u001b[1m1s\u001b[0m 3ms/step - RootMeanSquaredError: 0.5804 - loss: 0.3370 - val_RootMeanSquaredError: 0.5712 - val_loss: 0.3262\n",
            "Epoch 21/29\n",
            "\u001b[1m363/363\u001b[0m \u001b[32m━━━━━━━━━━━━━━━━━━━━\u001b[0m\u001b[37m\u001b[0m \u001b[1m1s\u001b[0m 3ms/step - RootMeanSquaredError: 0.5787 - loss: 0.3351 - val_RootMeanSquaredError: 0.5616 - val_loss: 0.3154\n",
            "Epoch 22/29\n",
            "\u001b[1m363/363\u001b[0m \u001b[32m━━━━━━━━━━━━━━━━━━━━\u001b[0m\u001b[37m\u001b[0m \u001b[1m1s\u001b[0m 3ms/step - RootMeanSquaredError: 0.5773 - loss: 0.3335 - val_RootMeanSquaredError: 0.5564 - val_loss: 0.3096\n",
            "Epoch 23/29\n",
            "\u001b[1m363/363\u001b[0m \u001b[32m━━━━━━━━━━━━━━━━━━━━\u001b[0m\u001b[37m\u001b[0m \u001b[1m1s\u001b[0m 3ms/step - RootMeanSquaredError: 0.5759 - loss: 0.3318 - val_RootMeanSquaredError: 0.5631 - val_loss: 0.3171\n",
            "Epoch 24/29\n",
            "\u001b[1m363/363\u001b[0m \u001b[32m━━━━━━━━━━━━━━━━━━━━\u001b[0m\u001b[37m\u001b[0m \u001b[1m1s\u001b[0m 3ms/step - RootMeanSquaredError: 0.5742 - loss: 0.3299 - val_RootMeanSquaredError: 0.5568 - val_loss: 0.3100\n",
            "Epoch 25/29\n",
            "\u001b[1m363/363\u001b[0m \u001b[32m━━━━━━━━━━━━━━━━━━━━\u001b[0m\u001b[37m\u001b[0m \u001b[1m1s\u001b[0m 4ms/step - RootMeanSquaredError: 0.5724 - loss: 0.3278 - val_RootMeanSquaredError: 0.5556 - val_loss: 0.3087\n",
            "Epoch 26/29\n",
            "\u001b[1m363/363\u001b[0m \u001b[32m━━━━━━━━━━━━━━━━━━━━\u001b[0m\u001b[37m\u001b[0m \u001b[1m2s\u001b[0m 3ms/step - RootMeanSquaredError: 0.5711 - loss: 0.3263 - val_RootMeanSquaredError: 0.5495 - val_loss: 0.3020\n",
            "Epoch 27/29\n",
            "\u001b[1m363/363\u001b[0m \u001b[32m━━━━━━━━━━━━━━━━━━━━\u001b[0m\u001b[37m\u001b[0m \u001b[1m1s\u001b[0m 3ms/step - RootMeanSquaredError: 0.5689 - loss: 0.3238 - val_RootMeanSquaredError: 0.5688 - val_loss: 0.3235\n",
            "Epoch 28/29\n",
            "\u001b[1m363/363\u001b[0m \u001b[32m━━━━━━━━━━━━━━━━━━━━\u001b[0m\u001b[37m\u001b[0m \u001b[1m1s\u001b[0m 3ms/step - RootMeanSquaredError: 0.5678 - loss: 0.3226 - val_RootMeanSquaredError: 0.5554 - val_loss: 0.3084\n",
            "Epoch 29/29\n",
            "\u001b[1m363/363\u001b[0m \u001b[32m━━━━━━━━━━━━━━━━━━━━\u001b[0m\u001b[37m\u001b[0m \u001b[1m1s\u001b[0m 3ms/step - RootMeanSquaredError: 0.5667 - loss: 0.3213 - val_RootMeanSquaredError: 0.5706 - val_loss: 0.3256\n"
          ]
        }
      ]
    },
    {
      "cell_type": "code",
      "source": [
        "model.summary()"
      ],
      "metadata": {
        "colab": {
          "base_uri": "https://localhost:8080/",
          "height": 273
        },
        "id": "yx2TdXYyINaN",
        "outputId": "45218a22-f7d4-498b-bcf5-f2cc86fb8431"
      },
      "execution_count": null,
      "outputs": [
        {
          "output_type": "display_data",
          "data": {
            "text/plain": [
              "\u001b[1mModel: \"sequential\"\u001b[0m\n"
            ],
            "text/html": [
              "<pre style=\"white-space:pre;overflow-x:auto;line-height:normal;font-family:Menlo,'DejaVu Sans Mono',consolas,'Courier New',monospace\"><span style=\"font-weight: bold\">Model: \"sequential\"</span>\n",
              "</pre>\n"
            ]
          },
          "metadata": {}
        },
        {
          "output_type": "display_data",
          "data": {
            "text/plain": [
              "┏━━━━━━━━━━━━━━━━━━━━━━━━━━━━━━━━━━━━━━┳━━━━━━━━━━━━━━━━━━━━━━━━━━━━━┳━━━━━━━━━━━━━━━━━┓\n",
              "┃\u001b[1m \u001b[0m\u001b[1mLayer (type)                        \u001b[0m\u001b[1m \u001b[0m┃\u001b[1m \u001b[0m\u001b[1mOutput Shape               \u001b[0m\u001b[1m \u001b[0m┃\u001b[1m \u001b[0m\u001b[1m        Param #\u001b[0m\u001b[1m \u001b[0m┃\n",
              "┡━━━━━━━━━━━━━━━━━━━━━━━━━━━━━━━━━━━━━━╇━━━━━━━━━━━━━━━━━━━━━━━━━━━━━╇━━━━━━━━━━━━━━━━━┩\n",
              "│ normalization (\u001b[38;5;33mNormalization\u001b[0m)        │ (\u001b[38;5;45mNone\u001b[0m, \u001b[38;5;34m8\u001b[0m)                   │              \u001b[38;5;34m17\u001b[0m │\n",
              "├──────────────────────────────────────┼─────────────────────────────┼─────────────────┤\n",
              "│ dense (\u001b[38;5;33mDense\u001b[0m)                        │ (\u001b[38;5;45mNone\u001b[0m, \u001b[38;5;34m30\u001b[0m)                  │             \u001b[38;5;34m270\u001b[0m │\n",
              "├──────────────────────────────────────┼─────────────────────────────┼─────────────────┤\n",
              "│ dense_1 (\u001b[38;5;33mDense\u001b[0m)                      │ (\u001b[38;5;45mNone\u001b[0m, \u001b[38;5;34m30\u001b[0m)                  │             \u001b[38;5;34m930\u001b[0m │\n",
              "├──────────────────────────────────────┼─────────────────────────────┼─────────────────┤\n",
              "│ dense_2 (\u001b[38;5;33mDense\u001b[0m)                      │ (\u001b[38;5;45mNone\u001b[0m, \u001b[38;5;34m1\u001b[0m)                   │              \u001b[38;5;34m31\u001b[0m │\n",
              "└──────────────────────────────────────┴─────────────────────────────┴─────────────────┘\n"
            ],
            "text/html": [
              "<pre style=\"white-space:pre;overflow-x:auto;line-height:normal;font-family:Menlo,'DejaVu Sans Mono',consolas,'Courier New',monospace\">┏━━━━━━━━━━━━━━━━━━━━━━━━━━━━━━━━━━━━━━┳━━━━━━━━━━━━━━━━━━━━━━━━━━━━━┳━━━━━━━━━━━━━━━━━┓\n",
              "┃<span style=\"font-weight: bold\"> Layer (type)                         </span>┃<span style=\"font-weight: bold\"> Output Shape                </span>┃<span style=\"font-weight: bold\">         Param # </span>┃\n",
              "┡━━━━━━━━━━━━━━━━━━━━━━━━━━━━━━━━━━━━━━╇━━━━━━━━━━━━━━━━━━━━━━━━━━━━━╇━━━━━━━━━━━━━━━━━┩\n",
              "│ normalization (<span style=\"color: #0087ff; text-decoration-color: #0087ff\">Normalization</span>)        │ (<span style=\"color: #00d7ff; text-decoration-color: #00d7ff\">None</span>, <span style=\"color: #00af00; text-decoration-color: #00af00\">8</span>)                   │              <span style=\"color: #00af00; text-decoration-color: #00af00\">17</span> │\n",
              "├──────────────────────────────────────┼─────────────────────────────┼─────────────────┤\n",
              "│ dense (<span style=\"color: #0087ff; text-decoration-color: #0087ff\">Dense</span>)                        │ (<span style=\"color: #00d7ff; text-decoration-color: #00d7ff\">None</span>, <span style=\"color: #00af00; text-decoration-color: #00af00\">30</span>)                  │             <span style=\"color: #00af00; text-decoration-color: #00af00\">270</span> │\n",
              "├──────────────────────────────────────┼─────────────────────────────┼─────────────────┤\n",
              "│ dense_1 (<span style=\"color: #0087ff; text-decoration-color: #0087ff\">Dense</span>)                      │ (<span style=\"color: #00d7ff; text-decoration-color: #00d7ff\">None</span>, <span style=\"color: #00af00; text-decoration-color: #00af00\">30</span>)                  │             <span style=\"color: #00af00; text-decoration-color: #00af00\">930</span> │\n",
              "├──────────────────────────────────────┼─────────────────────────────┼─────────────────┤\n",
              "│ dense_2 (<span style=\"color: #0087ff; text-decoration-color: #0087ff\">Dense</span>)                      │ (<span style=\"color: #00d7ff; text-decoration-color: #00d7ff\">None</span>, <span style=\"color: #00af00; text-decoration-color: #00af00\">1</span>)                   │              <span style=\"color: #00af00; text-decoration-color: #00af00\">31</span> │\n",
              "└──────────────────────────────────────┴─────────────────────────────┴─────────────────┘\n",
              "</pre>\n"
            ]
          },
          "metadata": {}
        },
        {
          "output_type": "display_data",
          "data": {
            "text/plain": [
              "\u001b[1m Total params: \u001b[0m\u001b[38;5;34m1,250\u001b[0m (4.89 KB)\n"
            ],
            "text/html": [
              "<pre style=\"white-space:pre;overflow-x:auto;line-height:normal;font-family:Menlo,'DejaVu Sans Mono',consolas,'Courier New',monospace\"><span style=\"font-weight: bold\"> Total params: </span><span style=\"color: #00af00; text-decoration-color: #00af00\">1,250</span> (4.89 KB)\n",
              "</pre>\n"
            ]
          },
          "metadata": {}
        },
        {
          "output_type": "display_data",
          "data": {
            "text/plain": [
              "\u001b[1m Trainable params: \u001b[0m\u001b[38;5;34m1,231\u001b[0m (4.81 KB)\n"
            ],
            "text/html": [
              "<pre style=\"white-space:pre;overflow-x:auto;line-height:normal;font-family:Menlo,'DejaVu Sans Mono',consolas,'Courier New',monospace\"><span style=\"font-weight: bold\"> Trainable params: </span><span style=\"color: #00af00; text-decoration-color: #00af00\">1,231</span> (4.81 KB)\n",
              "</pre>\n"
            ]
          },
          "metadata": {}
        },
        {
          "output_type": "display_data",
          "data": {
            "text/plain": [
              "\u001b[1m Non-trainable params: \u001b[0m\u001b[38;5;34m17\u001b[0m (72.00 B)\n"
            ],
            "text/html": [
              "<pre style=\"white-space:pre;overflow-x:auto;line-height:normal;font-family:Menlo,'DejaVu Sans Mono',consolas,'Courier New',monospace\"><span style=\"font-weight: bold\"> Non-trainable params: </span><span style=\"color: #00af00; text-decoration-color: #00af00\">17</span> (72.00 B)\n",
              "</pre>\n"
            ]
          },
          "metadata": {}
        },
        {
          "output_type": "display_data",
          "data": {
            "text/plain": [
              "\u001b[1m Optimizer params: \u001b[0m\u001b[38;5;34m2\u001b[0m (12.00 B)\n"
            ],
            "text/html": [
              "<pre style=\"white-space:pre;overflow-x:auto;line-height:normal;font-family:Menlo,'DejaVu Sans Mono',consolas,'Courier New',monospace\"><span style=\"font-weight: bold\"> Optimizer params: </span><span style=\"color: #00af00; text-decoration-color: #00af00\">2</span> (12.00 B)\n",
              "</pre>\n"
            ]
          },
          "metadata": {}
        }
      ]
    },
    {
      "cell_type": "markdown",
      "source": [
        "# Functional API"
      ],
      "metadata": {
        "id": "k1nHDIDjIZS3"
      }
    },
    {
      "cell_type": "code",
      "source": [
        "normalization_layer = tf.keras.layers.Normalization()\n",
        "hidden_layer1 = tf.keras.layers.Dense(30, activation='relu')\n",
        "hidden_layer2= tf.keras.layers.Dense(30, activation = 'relu')\n",
        "concat_layer = tf.keras.layers.Concatenate()\n",
        "output_layer = tf.keras.layers.Dense(1)\n",
        "\n",
        "input_ = tf.keras.layers.Input(shape=[8])\n",
        "normalized = normalization_layer(input_)\n",
        "hidden1 = hidden_layer1(normalized)\n",
        "hidden2 = hidden_layer2(hidden1)\n",
        "concat = concat_layer([normalized, hidden2])\n",
        "output = output_layer(concat)\n",
        "\n",
        "model = tf.keras.Model(inputs = [input_], outputs = [output])"
      ],
      "metadata": {
        "id": "52qIuyAVJ3J2"
      },
      "execution_count": null,
      "outputs": []
    },
    {
      "cell_type": "code",
      "source": [
        "model.summary()"
      ],
      "metadata": {
        "colab": {
          "base_uri": "https://localhost:8080/",
          "height": 369
        },
        "id": "D1UsE-3vLPOS",
        "outputId": "dcef6af1-5834-44c6-c0a8-8203e7d6eeca"
      },
      "execution_count": null,
      "outputs": [
        {
          "output_type": "display_data",
          "data": {
            "text/plain": [
              "\u001b[1mModel: \"functional_1\"\u001b[0m\n"
            ],
            "text/html": [
              "<pre style=\"white-space:pre;overflow-x:auto;line-height:normal;font-family:Menlo,'DejaVu Sans Mono',consolas,'Courier New',monospace\"><span style=\"font-weight: bold\">Model: \"functional_1\"</span>\n",
              "</pre>\n"
            ]
          },
          "metadata": {}
        },
        {
          "output_type": "display_data",
          "data": {
            "text/plain": [
              "┏━━━━━━━━━━━━━━━━━━━━━━━━━━━┳━━━━━━━━━━━━━━━━━━━━━━━━┳━━━━━━━━━━━━━━━━┳━━━━━━━━━━━━━━━━━━━━━━━━┓\n",
              "┃\u001b[1m \u001b[0m\u001b[1mLayer (type)             \u001b[0m\u001b[1m \u001b[0m┃\u001b[1m \u001b[0m\u001b[1mOutput Shape          \u001b[0m\u001b[1m \u001b[0m┃\u001b[1m \u001b[0m\u001b[1m       Param #\u001b[0m\u001b[1m \u001b[0m┃\u001b[1m \u001b[0m\u001b[1mConnected to          \u001b[0m\u001b[1m \u001b[0m┃\n",
              "┡━━━━━━━━━━━━━━━━━━━━━━━━━━━╇━━━━━━━━━━━━━━━━━━━━━━━━╇━━━━━━━━━━━━━━━━╇━━━━━━━━━━━━━━━━━━━━━━━━┩\n",
              "│ input_layer_1             │ (\u001b[38;5;45mNone\u001b[0m, \u001b[38;5;34m8\u001b[0m)              │              \u001b[38;5;34m0\u001b[0m │ -                      │\n",
              "│ (\u001b[38;5;33mInputLayer\u001b[0m)              │                        │                │                        │\n",
              "├───────────────────────────┼────────────────────────┼────────────────┼────────────────────────┤\n",
              "│ normalization_1           │ (\u001b[38;5;45mNone\u001b[0m, \u001b[38;5;34m8\u001b[0m)              │             \u001b[38;5;34m17\u001b[0m │ input_layer_1[\u001b[38;5;34m0\u001b[0m][\u001b[38;5;34m0\u001b[0m]    │\n",
              "│ (\u001b[38;5;33mNormalization\u001b[0m)           │                        │                │                        │\n",
              "├───────────────────────────┼────────────────────────┼────────────────┼────────────────────────┤\n",
              "│ dense_3 (\u001b[38;5;33mDense\u001b[0m)           │ (\u001b[38;5;45mNone\u001b[0m, \u001b[38;5;34m30\u001b[0m)             │            \u001b[38;5;34m270\u001b[0m │ normalization_1[\u001b[38;5;34m0\u001b[0m][\u001b[38;5;34m0\u001b[0m]  │\n",
              "├───────────────────────────┼────────────────────────┼────────────────┼────────────────────────┤\n",
              "│ dense_4 (\u001b[38;5;33mDense\u001b[0m)           │ (\u001b[38;5;45mNone\u001b[0m, \u001b[38;5;34m30\u001b[0m)             │            \u001b[38;5;34m930\u001b[0m │ dense_3[\u001b[38;5;34m0\u001b[0m][\u001b[38;5;34m0\u001b[0m]          │\n",
              "├───────────────────────────┼────────────────────────┼────────────────┼────────────────────────┤\n",
              "│ concatenate (\u001b[38;5;33mConcatenate\u001b[0m) │ (\u001b[38;5;45mNone\u001b[0m, \u001b[38;5;34m38\u001b[0m)             │              \u001b[38;5;34m0\u001b[0m │ normalization_1[\u001b[38;5;34m0\u001b[0m][\u001b[38;5;34m0\u001b[0m], │\n",
              "│                           │                        │                │ dense_4[\u001b[38;5;34m0\u001b[0m][\u001b[38;5;34m0\u001b[0m]          │\n",
              "├───────────────────────────┼────────────────────────┼────────────────┼────────────────────────┤\n",
              "│ dense_5 (\u001b[38;5;33mDense\u001b[0m)           │ (\u001b[38;5;45mNone\u001b[0m, \u001b[38;5;34m1\u001b[0m)              │             \u001b[38;5;34m39\u001b[0m │ concatenate[\u001b[38;5;34m0\u001b[0m][\u001b[38;5;34m0\u001b[0m]      │\n",
              "└───────────────────────────┴────────────────────────┴────────────────┴────────────────────────┘\n"
            ],
            "text/html": [
              "<pre style=\"white-space:pre;overflow-x:auto;line-height:normal;font-family:Menlo,'DejaVu Sans Mono',consolas,'Courier New',monospace\">┏━━━━━━━━━━━━━━━━━━━━━━━━━━━┳━━━━━━━━━━━━━━━━━━━━━━━━┳━━━━━━━━━━━━━━━━┳━━━━━━━━━━━━━━━━━━━━━━━━┓\n",
              "┃<span style=\"font-weight: bold\"> Layer (type)              </span>┃<span style=\"font-weight: bold\"> Output Shape           </span>┃<span style=\"font-weight: bold\">        Param # </span>┃<span style=\"font-weight: bold\"> Connected to           </span>┃\n",
              "┡━━━━━━━━━━━━━━━━━━━━━━━━━━━╇━━━━━━━━━━━━━━━━━━━━━━━━╇━━━━━━━━━━━━━━━━╇━━━━━━━━━━━━━━━━━━━━━━━━┩\n",
              "│ input_layer_1             │ (<span style=\"color: #00d7ff; text-decoration-color: #00d7ff\">None</span>, <span style=\"color: #00af00; text-decoration-color: #00af00\">8</span>)              │              <span style=\"color: #00af00; text-decoration-color: #00af00\">0</span> │ -                      │\n",
              "│ (<span style=\"color: #0087ff; text-decoration-color: #0087ff\">InputLayer</span>)              │                        │                │                        │\n",
              "├───────────────────────────┼────────────────────────┼────────────────┼────────────────────────┤\n",
              "│ normalization_1           │ (<span style=\"color: #00d7ff; text-decoration-color: #00d7ff\">None</span>, <span style=\"color: #00af00; text-decoration-color: #00af00\">8</span>)              │             <span style=\"color: #00af00; text-decoration-color: #00af00\">17</span> │ input_layer_1[<span style=\"color: #00af00; text-decoration-color: #00af00\">0</span>][<span style=\"color: #00af00; text-decoration-color: #00af00\">0</span>]    │\n",
              "│ (<span style=\"color: #0087ff; text-decoration-color: #0087ff\">Normalization</span>)           │                        │                │                        │\n",
              "├───────────────────────────┼────────────────────────┼────────────────┼────────────────────────┤\n",
              "│ dense_3 (<span style=\"color: #0087ff; text-decoration-color: #0087ff\">Dense</span>)           │ (<span style=\"color: #00d7ff; text-decoration-color: #00d7ff\">None</span>, <span style=\"color: #00af00; text-decoration-color: #00af00\">30</span>)             │            <span style=\"color: #00af00; text-decoration-color: #00af00\">270</span> │ normalization_1[<span style=\"color: #00af00; text-decoration-color: #00af00\">0</span>][<span style=\"color: #00af00; text-decoration-color: #00af00\">0</span>]  │\n",
              "├───────────────────────────┼────────────────────────┼────────────────┼────────────────────────┤\n",
              "│ dense_4 (<span style=\"color: #0087ff; text-decoration-color: #0087ff\">Dense</span>)           │ (<span style=\"color: #00d7ff; text-decoration-color: #00d7ff\">None</span>, <span style=\"color: #00af00; text-decoration-color: #00af00\">30</span>)             │            <span style=\"color: #00af00; text-decoration-color: #00af00\">930</span> │ dense_3[<span style=\"color: #00af00; text-decoration-color: #00af00\">0</span>][<span style=\"color: #00af00; text-decoration-color: #00af00\">0</span>]          │\n",
              "├───────────────────────────┼────────────────────────┼────────────────┼────────────────────────┤\n",
              "│ concatenate (<span style=\"color: #0087ff; text-decoration-color: #0087ff\">Concatenate</span>) │ (<span style=\"color: #00d7ff; text-decoration-color: #00d7ff\">None</span>, <span style=\"color: #00af00; text-decoration-color: #00af00\">38</span>)             │              <span style=\"color: #00af00; text-decoration-color: #00af00\">0</span> │ normalization_1[<span style=\"color: #00af00; text-decoration-color: #00af00\">0</span>][<span style=\"color: #00af00; text-decoration-color: #00af00\">0</span>], │\n",
              "│                           │                        │                │ dense_4[<span style=\"color: #00af00; text-decoration-color: #00af00\">0</span>][<span style=\"color: #00af00; text-decoration-color: #00af00\">0</span>]          │\n",
              "├───────────────────────────┼────────────────────────┼────────────────┼────────────────────────┤\n",
              "│ dense_5 (<span style=\"color: #0087ff; text-decoration-color: #0087ff\">Dense</span>)           │ (<span style=\"color: #00d7ff; text-decoration-color: #00d7ff\">None</span>, <span style=\"color: #00af00; text-decoration-color: #00af00\">1</span>)              │             <span style=\"color: #00af00; text-decoration-color: #00af00\">39</span> │ concatenate[<span style=\"color: #00af00; text-decoration-color: #00af00\">0</span>][<span style=\"color: #00af00; text-decoration-color: #00af00\">0</span>]      │\n",
              "└───────────────────────────┴────────────────────────┴────────────────┴────────────────────────┘\n",
              "</pre>\n"
            ]
          },
          "metadata": {}
        },
        {
          "output_type": "display_data",
          "data": {
            "text/plain": [
              "\u001b[1m Total params: \u001b[0m\u001b[38;5;34m1,256\u001b[0m (4.91 KB)\n"
            ],
            "text/html": [
              "<pre style=\"white-space:pre;overflow-x:auto;line-height:normal;font-family:Menlo,'DejaVu Sans Mono',consolas,'Courier New',monospace\"><span style=\"font-weight: bold\"> Total params: </span><span style=\"color: #00af00; text-decoration-color: #00af00\">1,256</span> (4.91 KB)\n",
              "</pre>\n"
            ]
          },
          "metadata": {}
        },
        {
          "output_type": "display_data",
          "data": {
            "text/plain": [
              "\u001b[1m Trainable params: \u001b[0m\u001b[38;5;34m1,239\u001b[0m (4.84 KB)\n"
            ],
            "text/html": [
              "<pre style=\"white-space:pre;overflow-x:auto;line-height:normal;font-family:Menlo,'DejaVu Sans Mono',consolas,'Courier New',monospace\"><span style=\"font-weight: bold\"> Trainable params: </span><span style=\"color: #00af00; text-decoration-color: #00af00\">1,239</span> (4.84 KB)\n",
              "</pre>\n"
            ]
          },
          "metadata": {}
        },
        {
          "output_type": "display_data",
          "data": {
            "text/plain": [
              "\u001b[1m Non-trainable params: \u001b[0m\u001b[38;5;34m17\u001b[0m (72.00 B)\n"
            ],
            "text/html": [
              "<pre style=\"white-space:pre;overflow-x:auto;line-height:normal;font-family:Menlo,'DejaVu Sans Mono',consolas,'Courier New',monospace\"><span style=\"font-weight: bold\"> Non-trainable params: </span><span style=\"color: #00af00; text-decoration-color: #00af00\">17</span> (72.00 B)\n",
              "</pre>\n"
            ]
          },
          "metadata": {}
        }
      ]
    },
    {
      "cell_type": "code",
      "source": [
        "tf.keras.utils.plot_model(model, show_shapes=True, dpi=100)"
      ],
      "metadata": {
        "colab": {
          "base_uri": "https://localhost:8080/",
          "height": 978
        },
        "id": "gCSwalTYL-M_",
        "outputId": "1d80f3e6-56c0-4488-9f1d-2f748fa95c3f"
      },
      "execution_count": null,
      "outputs": [
        {
          "output_type": "execute_result",
          "data": {
            "image/png": "[encoded data removed]",
            "text/plain": [
              "<IPython.core.display.Image object>"
            ]
          },
          "metadata": {},
          "execution_count": 41
        }
      ]
    },
    {
      "cell_type": "code",
      "source": [
        "normalization_layer.adapt(X_train)\n",
        "optimizer = tf.keras.optimizers.Adam(learning_rate = 1e-3)\n",
        "model.compile(loss='mse', optimizer=optimizer, metrics=['RootMeanSquaredError'])\n",
        "history = model.fit(X_train, y_train, epochs=20, validation_data=(X_valid, y_valid))"
      ],
      "metadata": {
        "colab": {
          "base_uri": "https://localhost:8080/"
        },
        "id": "ny2NrpEbMWFd",
        "outputId": "00486dca-e0df-4c3d-d703-7736ef389825"
      },
      "execution_count": null,
      "outputs": [
        {
          "output_type": "stream",
          "name": "stdout",
          "text": [
            "Epoch 1/20\n"
          ]
        },
        {
          "output_type": "stream",
          "name": "stderr",
          "text": [
            "/usr/local/lib/python3.11/dist-packages/keras/src/models/functional.py:237: UserWarning: The structure of `inputs` doesn't match the expected structure.\n",
            "Expected: ['keras_tensor_5']\n",
            "Received: inputs=Tensor(shape=(None, 8))\n",
            "  warnings.warn(msg)\n"
          ]
        },
        {
          "output_type": "stream",
          "name": "stdout",
          "text": [
            "\u001b[1m363/363\u001b[0m \u001b[32m━━━━━━━━━━━━━━━━━━━━\u001b[0m\u001b[37m\u001b[0m \u001b[1m3s\u001b[0m 6ms/step - RootMeanSquaredError: 1.4923 - loss: 2.3387 - val_RootMeanSquaredError: 2.6390 - val_loss: 6.9644\n",
            "Epoch 2/20\n",
            "\u001b[1m363/363\u001b[0m \u001b[32m━━━━━━━━━━━━━━━━━━━━\u001b[0m\u001b[37m\u001b[0m \u001b[1m1s\u001b[0m 3ms/step - RootMeanSquaredError: 0.7393 - loss: 0.5480 - val_RootMeanSquaredError: 1.7089 - val_loss: 2.9204\n",
            "Epoch 3/20\n",
            "\u001b[1m363/363\u001b[0m \u001b[32m━━━━━━━━━━━━━━━━━━━━\u001b[0m\u001b[37m\u001b[0m \u001b[1m2s\u001b[0m 4ms/step - RootMeanSquaredError: 0.6512 - loss: 0.4243 - val_RootMeanSquaredError: 1.0040 - val_loss: 1.0081\n",
            "Epoch 4/20\n",
            "\u001b[1m363/363\u001b[0m \u001b[32m━━━━━━━━━━━━━━━━━━━━\u001b[0m\u001b[37m\u001b[0m \u001b[1m2s\u001b[0m 3ms/step - RootMeanSquaredError: 0.6251 - loss: 0.3909 - val_RootMeanSquaredError: 0.6432 - val_loss: 0.4137\n",
            "Epoch 5/20\n",
            "\u001b[1m363/363\u001b[0m \u001b[32m━━━━━━━━━━━━━━━━━━━━\u001b[0m\u001b[37m\u001b[0m \u001b[1m1s\u001b[0m 3ms/step - RootMeanSquaredError: 0.6100 - loss: 0.3723 - val_RootMeanSquaredError: 0.6185 - val_loss: 0.3826\n",
            "Epoch 6/20\n",
            "\u001b[1m363/363\u001b[0m \u001b[32m━━━━━━━━━━━━━━━━━━━━\u001b[0m\u001b[37m\u001b[0m \u001b[1m1s\u001b[0m 3ms/step - RootMeanSquaredError: 0.5996 - loss: 0.3596 - val_RootMeanSquaredError: 0.6079 - val_loss: 0.3696\n",
            "Epoch 7/20\n",
            "\u001b[1m363/363\u001b[0m \u001b[32m━━━━━━━━━━━━━━━━━━━━\u001b[0m\u001b[37m\u001b[0m \u001b[1m1s\u001b[0m 3ms/step - RootMeanSquaredError: 0.5923 - loss: 0.3510 - val_RootMeanSquaredError: 0.5790 - val_loss: 0.3353\n",
            "Epoch 8/20\n",
            "\u001b[1m363/363\u001b[0m \u001b[32m━━━━━━━━━━━━━━━━━━━━\u001b[0m\u001b[37m\u001b[0m \u001b[1m1s\u001b[0m 3ms/step - RootMeanSquaredError: 0.5856 - loss: 0.3431 - val_RootMeanSquaredError: 0.5954 - val_loss: 0.3545\n",
            "Epoch 9/20\n",
            "\u001b[1m363/363\u001b[0m \u001b[32m━━━━━━━━━━━━━━━━━━━━\u001b[0m\u001b[37m\u001b[0m \u001b[1m1s\u001b[0m 3ms/step - RootMeanSquaredError: 0.5813 - loss: 0.3380 - val_RootMeanSquaredError: 0.5660 - val_loss: 0.3204\n",
            "Epoch 10/20\n",
            "\u001b[1m363/363\u001b[0m \u001b[32m━━━━━━━━━━━━━━━━━━━━\u001b[0m\u001b[37m\u001b[0m \u001b[1m1s\u001b[0m 3ms/step - RootMeanSquaredError: 0.5779 - loss: 0.3341 - val_RootMeanSquaredError: 0.7255 - val_loss: 0.5263\n",
            "Epoch 11/20\n",
            "\u001b[1m363/363\u001b[0m \u001b[32m━━━━━━━━━━━━━━━━━━━━\u001b[0m\u001b[37m\u001b[0m \u001b[1m1s\u001b[0m 3ms/step - RootMeanSquaredError: 0.5736 - loss: 0.3291 - val_RootMeanSquaredError: 0.7607 - val_loss: 0.5787\n",
            "Epoch 12/20\n",
            "\u001b[1m363/363\u001b[0m \u001b[32m━━━━━━━━━━━━━━━━━━━━\u001b[0m\u001b[37m\u001b[0m \u001b[1m2s\u001b[0m 4ms/step - RootMeanSquaredError: 0.5709 - loss: 0.3261 - val_RootMeanSquaredError: 1.2646 - val_loss: 1.5991\n",
            "Epoch 13/20\n",
            "\u001b[1m363/363\u001b[0m \u001b[32m━━━━━━━━━━━━━━━━━━━━\u001b[0m\u001b[37m\u001b[0m \u001b[1m1s\u001b[0m 3ms/step - RootMeanSquaredError: 0.5701 - loss: 0.3251 - val_RootMeanSquaredError: 1.2592 - val_loss: 1.5857\n",
            "Epoch 14/20\n",
            "\u001b[1m363/363\u001b[0m \u001b[32m━━━━━━━━━━━━━━━━━━━━\u001b[0m\u001b[37m\u001b[0m \u001b[1m1s\u001b[0m 3ms/step - RootMeanSquaredError: 0.5688 - loss: 0.3236 - val_RootMeanSquaredError: 1.7121 - val_loss: 2.9313\n",
            "Epoch 15/20\n",
            "\u001b[1m363/363\u001b[0m \u001b[32m━━━━━━━━━━━━━━━━━━━━\u001b[0m\u001b[37m\u001b[0m \u001b[1m1s\u001b[0m 3ms/step - RootMeanSquaredError: 0.5686 - loss: 0.3234 - val_RootMeanSquaredError: 0.9723 - val_loss: 0.9453\n",
            "Epoch 16/20\n",
            "\u001b[1m363/363\u001b[0m \u001b[32m━━━━━━━━━━━━━━━━━━━━\u001b[0m\u001b[37m\u001b[0m \u001b[1m1s\u001b[0m 3ms/step - RootMeanSquaredError: 0.5628 - loss: 0.3168 - val_RootMeanSquaredError: 1.0182 - val_loss: 1.0368\n",
            "Epoch 17/20\n",
            "\u001b[1m363/363\u001b[0m \u001b[32m━━━━━━━━━━━━━━━━━━━━\u001b[0m\u001b[37m\u001b[0m \u001b[1m1s\u001b[0m 3ms/step - RootMeanSquaredError: 0.5582 - loss: 0.3116 - val_RootMeanSquaredError: 0.5800 - val_loss: 0.3364\n",
            "Epoch 18/20\n",
            "\u001b[1m363/363\u001b[0m \u001b[32m━━━━━━━━━━━━━━━━━━━━\u001b[0m\u001b[37m\u001b[0m \u001b[1m1s\u001b[0m 3ms/step - RootMeanSquaredError: 0.5551 - loss: 0.3082 - val_RootMeanSquaredError: 0.8227 - val_loss: 0.6769\n",
            "Epoch 19/20\n",
            "\u001b[1m363/363\u001b[0m \u001b[32m━━━━━━━━━━━━━━━━━━━━\u001b[0m\u001b[37m\u001b[0m \u001b[1m1s\u001b[0m 3ms/step - RootMeanSquaredError: 0.5545 - loss: 0.3075 - val_RootMeanSquaredError: 0.5850 - val_loss: 0.3422\n",
            "Epoch 20/20\n",
            "\u001b[1m363/363\u001b[0m \u001b[32m━━━━━━━━━━━━━━━━━━━━\u001b[0m\u001b[37m\u001b[0m \u001b[1m1s\u001b[0m 3ms/step - RootMeanSquaredError: 0.5521 - loss: 0.3049 - val_RootMeanSquaredError: 0.9208 - val_loss: 0.8479\n"
          ]
        }
      ]
    },
    {
      "cell_type": "code",
      "source": [
        "tf.random.set_seed(42)\n",
        "tf.keras.backend.clear_session()"
      ],
      "metadata": {
        "id": "ypBD53ygN9gT"
      },
      "execution_count": null,
      "outputs": []
    },
    {
      "cell_type": "code",
      "source": [
        "input_wide = tf.keras.layers.Input(shape=[5])   #0-4 features\n",
        "input_deep = tf.keras.layers.Input(shape=[6]) #2-7 features\n",
        "norm_layer_wide = tf.keras.layers.Normalization()\n",
        "norm_layer_deep = tf.keras.layers.Normalization()\n",
        "norm_wide = norm_layer_wide(input_wide)\n",
        "norm_deep = norm_layer_deep(input_deep)\n",
        "hidden1 = tf.keras.layers.Dense(30, activation='relu')(norm_deep)\n",
        "hidden2 = tf.keras.layers.Dense(30, activation='relu')(hidden1)\n",
        "concat = tf.keras.layers.concatenate([norm_wide, hidden2])\n",
        "outputs = tf.keras.layers.Dense(1)(concat)\n",
        "model = tf.keras.Model(inputs= [input_wide, input_deep], outputs=[outputs])"
      ],
      "metadata": {
        "id": "dZa1_yi8NQCW"
      },
      "execution_count": null,
      "outputs": []
    },
    {
      "cell_type": "code",
      "source": [
        "model.compile(loss='mse',\n",
        "              optimizer=tf.keras.optimizers.Adam(learning_rate=1e-3),\n",
        "              metrics=['RootMeanSquaredError'])\n",
        "\n",
        "X_train_wide, X_train_deep = X_train[:, :5], X_train[:, 2:]\n",
        "X_valid_wide, X_valid_deep = X_valid[:, :5], X_valid[:, 2:]\n",
        "X_test_wide, X_test_deep = X_test[:, :5], X_test[:, 2:]\n",
        "X_new_wide, X_new_deep = X_test_wide[:3], X_test_deep[:3]\n",
        "\n",
        "norm_layer_wide.adapt(X_train_wide)\n",
        "norm_layer_deep. adapt(X_train_deep)\n",
        "\n",
        "history = model.fit((X_train_wide, X_train_deep), y_train, epochs=20,\n",
        "                    validation_data=((X_valid_wide, X_valid_deep), y_valid))\n",
        "mse_test = model.evaluate((X_test_wide, X_test_deep), y_test)\n",
        "y_pred = model.predict((X_new_wide, X_new_deep))"
      ],
      "metadata": {
        "colab": {
          "base_uri": "https://localhost:8080/"
        },
        "id": "ybwKeta8Pki9",
        "outputId": "e506492a-e994-424d-de3c-e2f390d6bf3e"
      },
      "execution_count": null,
      "outputs": [
        {
          "output_type": "stream",
          "name": "stdout",
          "text": [
            "Epoch 1/20\n",
            "\u001b[1m363/363\u001b[0m \u001b[32m━━━━━━━━━━━━━━━━━━━━\u001b[0m\u001b[37m\u001b[0m \u001b[1m4s\u001b[0m 6ms/step - RootMeanSquaredError: 1.6911 - loss: 2.9714 - val_RootMeanSquaredError: 0.9093 - val_loss: 0.8267\n",
            "Epoch 2/20\n",
            "\u001b[1m363/363\u001b[0m \u001b[32m━━━━━━━━━━━━━━━━━━━━\u001b[0m\u001b[37m\u001b[0m \u001b[1m1s\u001b[0m 3ms/step - RootMeanSquaredError: 0.8838 - loss: 0.7824 - val_RootMeanSquaredError: 0.8758 - val_loss: 0.7669\n",
            "Epoch 3/20\n",
            "\u001b[1m363/363\u001b[0m \u001b[32m━━━━━━━━━━━━━━━━━━━━\u001b[0m\u001b[37m\u001b[0m \u001b[1m1s\u001b[0m 3ms/step - RootMeanSquaredError: 0.7694 - loss: 0.5924 - val_RootMeanSquaredError: 0.7657 - val_loss: 0.5863\n",
            "Epoch 4/20\n",
            "\u001b[1m363/363\u001b[0m \u001b[32m━━━━━━━━━━━━━━━━━━━━\u001b[0m\u001b[37m\u001b[0m \u001b[1m1s\u001b[0m 3ms/step - RootMeanSquaredError: 0.7008 - loss: 0.4915 - val_RootMeanSquaredError: 0.6337 - val_loss: 0.4015\n",
            "Epoch 5/20\n",
            "\u001b[1m363/363\u001b[0m \u001b[32m━━━━━━━━━━━━━━━━━━━━\u001b[0m\u001b[37m\u001b[0m \u001b[1m1s\u001b[0m 3ms/step - RootMeanSquaredError: 0.6558 - loss: 0.4303 - val_RootMeanSquaredError: 0.7982 - val_loss: 0.6371\n",
            "Epoch 6/20\n",
            "\u001b[1m363/363\u001b[0m \u001b[32m━━━━━━━━━━━━━━━━━━━━\u001b[0m\u001b[37m\u001b[0m \u001b[1m1s\u001b[0m 3ms/step - RootMeanSquaredError: 0.6316 - loss: 0.3991 - val_RootMeanSquaredError: 0.9240 - val_loss: 0.8537\n",
            "Epoch 7/20\n",
            "\u001b[1m363/363\u001b[0m \u001b[32m━━━━━━━━━━━━━━━━━━━━\u001b[0m\u001b[37m\u001b[0m \u001b[1m1s\u001b[0m 3ms/step - RootMeanSquaredError: 0.6187 - loss: 0.3830 - val_RootMeanSquaredError: 0.6279 - val_loss: 0.3942\n",
            "Epoch 8/20\n",
            "\u001b[1m363/363\u001b[0m \u001b[32m━━━━━━━━━━━━━━━━━━━━\u001b[0m\u001b[37m\u001b[0m \u001b[1m1s\u001b[0m 3ms/step - RootMeanSquaredError: 0.6123 - loss: 0.3750 - val_RootMeanSquaredError: 1.7039 - val_loss: 2.9034\n",
            "Epoch 9/20\n",
            "\u001b[1m363/363\u001b[0m \u001b[32m━━━━━━━━━━━━━━━━━━━━\u001b[0m\u001b[37m\u001b[0m \u001b[1m2s\u001b[0m 4ms/step - RootMeanSquaredError: 0.6099 - loss: 0.3721 - val_RootMeanSquaredError: 2.1345 - val_loss: 4.5561\n",
            "Epoch 10/20\n",
            "\u001b[1m363/363\u001b[0m \u001b[32m━━━━━━━━━━━━━━━━━━━━\u001b[0m\u001b[37m\u001b[0m \u001b[1m1s\u001b[0m 3ms/step - RootMeanSquaredError: 0.6144 - loss: 0.3777 - val_RootMeanSquaredError: 2.1844 - val_loss: 4.7715\n",
            "Epoch 11/20\n",
            "\u001b[1m363/363\u001b[0m \u001b[32m━━━━━━━━━━━━━━━━━━━━\u001b[0m\u001b[37m\u001b[0m \u001b[1m1s\u001b[0m 3ms/step - RootMeanSquaredError: 0.6097 - loss: 0.3718 - val_RootMeanSquaredError: 1.5026 - val_loss: 2.2579\n",
            "Epoch 12/20\n",
            "\u001b[1m363/363\u001b[0m \u001b[32m━━━━━━━━━━━━━━━━━━━━\u001b[0m\u001b[37m\u001b[0m \u001b[1m1s\u001b[0m 3ms/step - RootMeanSquaredError: 0.6018 - loss: 0.3623 - val_RootMeanSquaredError: 1.2245 - val_loss: 1.4995\n",
            "Epoch 13/20\n",
            "\u001b[1m363/363\u001b[0m \u001b[32m━━━━━━━━━━━━━━━━━━━━\u001b[0m\u001b[37m\u001b[0m \u001b[1m1s\u001b[0m 3ms/step - RootMeanSquaredError: 0.5977 - loss: 0.3573 - val_RootMeanSquaredError: 0.9518 - val_loss: 0.9059\n",
            "Epoch 14/20\n",
            "\u001b[1m363/363\u001b[0m \u001b[32m━━━━━━━━━━━━━━━━━━━━\u001b[0m\u001b[37m\u001b[0m \u001b[1m1s\u001b[0m 3ms/step - RootMeanSquaredError: 0.5928 - loss: 0.3514 - val_RootMeanSquaredError: 0.9070 - val_loss: 0.8226\n",
            "Epoch 15/20\n",
            "\u001b[1m363/363\u001b[0m \u001b[32m━━━━━━━━━━━━━━━━━━━━\u001b[0m\u001b[37m\u001b[0m \u001b[1m1s\u001b[0m 3ms/step - RootMeanSquaredError: 0.5952 - loss: 0.3544 - val_RootMeanSquaredError: 1.0100 - val_loss: 1.0202\n",
            "Epoch 16/20\n",
            "\u001b[1m363/363\u001b[0m \u001b[32m━━━━━━━━━━━━━━━━━━━━\u001b[0m\u001b[37m\u001b[0m \u001b[1m1s\u001b[0m 3ms/step - RootMeanSquaredError: 0.5890 - loss: 0.3470 - val_RootMeanSquaredError: 1.1702 - val_loss: 1.3693\n",
            "Epoch 17/20\n",
            "\u001b[1m363/363\u001b[0m \u001b[32m━━━━━━━━━━━━━━━━━━━━\u001b[0m\u001b[37m\u001b[0m \u001b[1m1s\u001b[0m 3ms/step - RootMeanSquaredError: 0.5886 - loss: 0.3465 - val_RootMeanSquaredError: 1.2185 - val_loss: 1.4848\n",
            "Epoch 18/20\n",
            "\u001b[1m363/363\u001b[0m \u001b[32m━━━━━━━━━━━━━━━━━━━━\u001b[0m\u001b[37m\u001b[0m \u001b[1m2s\u001b[0m 5ms/step - RootMeanSquaredError: 0.5878 - loss: 0.3455 - val_RootMeanSquaredError: 1.1691 - val_loss: 1.3668\n",
            "Epoch 19/20\n",
            "\u001b[1m363/363\u001b[0m \u001b[32m━━━━━━━━━━━━━━━━━━━━\u001b[0m\u001b[37m\u001b[0m \u001b[1m1s\u001b[0m 4ms/step - RootMeanSquaredError: 0.5847 - loss: 0.3420 - val_RootMeanSquaredError: 1.3000 - val_loss: 1.6900\n",
            "Epoch 20/20\n",
            "\u001b[1m363/363\u001b[0m \u001b[32m━━━━━━━━━━━━━━━━━━━━\u001b[0m\u001b[37m\u001b[0m \u001b[1m1s\u001b[0m 3ms/step - RootMeanSquaredError: 0.5845 - loss: 0.3417 - val_RootMeanSquaredError: 1.2252 - val_loss: 1.5012\n",
            "\u001b[1m162/162\u001b[0m \u001b[32m━━━━━━━━━━━━━━━━━━━━\u001b[0m\u001b[37m\u001b[0m \u001b[1m1s\u001b[0m 4ms/step - RootMeanSquaredError: 0.5865 - loss: 0.3441\n",
            "\u001b[1m1/1\u001b[0m \u001b[32m━━━━━━━━━━━━━━━━━━━━\u001b[0m\u001b[37m\u001b[0m \u001b[1m0s\u001b[0m 298ms/step\n"
          ]
        }
      ]
    },
    {
      "cell_type": "code",
      "source": [
        "X_test_wide.shape, y_test.shape"
      ],
      "metadata": {
        "colab": {
          "base_uri": "https://localhost:8080/"
        },
        "id": "id_Z2sULS3cV",
        "outputId": "62e761f8-f5c6-40d1-d150-bf4c6dcb62d3"
      },
      "execution_count": null,
      "outputs": [
        {
          "output_type": "execute_result",
          "data": {
            "text/plain": [
              "((5160, 5), (5160,))"
            ]
          },
          "metadata": {},
          "execution_count": 46
        }
      ]
    },
    {
      "cell_type": "code",
      "source": [
        "tf.random.set_seed(42)\n",
        "tf.keras.backend.clear_session()"
      ],
      "metadata": {
        "id": "Yc-Y6MVbeHSw"
      },
      "execution_count": null,
      "outputs": []
    },
    {
      "cell_type": "code",
      "source": [
        "input_wide = tf.keras.layers.Input(shape=[5])\n",
        "input_deep = tf.keras.layers.Input(shape=[6])\n",
        "\n",
        "normalization_layer_wide = tf.keras.layers.Normalization()\n",
        "normalization_layer_deep = tf.keras.layers.Normalization()\n",
        "\n",
        "norm_wide = normalization_layer_wide(input_wide)\n",
        "norm_deep = normalization_layer_deep(input_deep)\n",
        "\n",
        "hidden1 = tf.keras.layers.Dense(30, activation='relu')(norm_deep)\n",
        "hidden2 = tf.keras.layers.Dense(30, activation='relu')(hidden1)\n",
        "\n",
        "concat = tf.keras.layers.concatenate([norm_wide, hidden1])\n",
        "output_wide = tf.keras.layers.Dense(1)(concat)\n",
        "output_deep = tf.keras.layers.Dense(1)(hidden2)\n",
        "\n",
        "model = tf.keras.Model(inputs=[input_wide, input_deep], outputs=[output_wide, output_deep])"
      ],
      "metadata": {
        "id": "17DQg47vR9fk"
      },
      "execution_count": null,
      "outputs": []
    },
    {
      "cell_type": "code",
      "source": [
        "model.compile(loss=('mse', 'mse'),\n",
        "              optimizer = tf.keras.optimizers.Adam(1e-3), loss_weights=[0.9, 0.1],\n",
        "              metrics = ['RootMeanSquaredError', 'RootMeanSquaredError'], )\n",
        "\n",
        "X_train_wide, X_train_deep = X_train[:, :5], X_train[:, 2:]\n",
        "X_test_wide, X_test_deep = X_test[:, :5], X_test[:, 2:]\n",
        "X_valid_wide, X_valid_deep = X_valid[:, :5], X_valid[:, 2:]\n",
        "X_new_wide, X_new_deep = X_test_wide[:3], X_test_deep[:3]\n",
        "\n",
        "norm_layer_wide.adapt(X_train_wide)\n",
        "norm_layer_deep.adapt(X_train_deep)\n",
        "\n",
        "history = model.fit((X_train_wide, X_train_deep), (y_train, y_train), epochs=20,\n",
        "                    validation_data=((X_valid_wide, X_valid_deep), (y_valid, y_valid)))\n",
        "mse_test = model.evaluate((X_test_wide, X_test_deep), (y_test, y_test))\n",
        "y_pred = model.predict((X_new_wide, X_new_deep))"
      ],
      "metadata": {
        "colab": {
          "base_uri": "https://localhost:8080/"
        },
        "id": "C0eiTFa0U3Dy",
        "outputId": "0c4a18f6-9548-4b1e-e7e3-56bc56950943"
      },
      "execution_count": null,
      "outputs": [
        {
          "output_type": "stream",
          "name": "stdout",
          "text": [
            "Epoch 1/20\n",
            "\u001b[1m363/363\u001b[0m \u001b[32m━━━━━━━━━━━━━━━━━━━━\u001b[0m\u001b[37m\u001b[0m \u001b[1m5s\u001b[0m 9ms/step - dense_2_RootMeanSquaredError: 150.6030 - dense_2_loss: 28784.6562 - dense_3_RootMeanSquaredError: 58.4708 - dense_3_loss: 4861.1792 - loss: 26392.3379 - val_dense_2_RootMeanSquaredError: 5.1381 - val_dense_2_loss: 26.3889 - val_dense_3_RootMeanSquaredError: 1.4745 - val_dense_3_loss: 2.1736 - val_loss: 23.9777\n",
            "Epoch 2/20\n",
            "\u001b[1m363/363\u001b[0m \u001b[32m━━━━━━━━━━━━━━━━━━━━\u001b[0m\u001b[37m\u001b[0m \u001b[1m3s\u001b[0m 6ms/step - dense_2_RootMeanSquaredError: 2.1917 - dense_2_loss: 4.8081 - dense_3_RootMeanSquaredError: 1.3195 - dense_3_loss: 1.7421 - loss: 4.5015 - val_dense_2_RootMeanSquaredError: 4.7265 - val_dense_2_loss: 22.3309 - val_dense_3_RootMeanSquaredError: 1.3075 - val_dense_3_loss: 1.7093 - val_loss: 20.2770\n",
            "Epoch 3/20\n",
            "\u001b[1m363/363\u001b[0m \u001b[32m━━━━━━━━━━━━━━━━━━━━\u001b[0m\u001b[37m\u001b[0m \u001b[1m2s\u001b[0m 4ms/step - dense_2_RootMeanSquaredError: 2.0950 - dense_2_loss: 4.3913 - dense_3_RootMeanSquaredError: 1.2875 - dense_3_loss: 1.6577 - loss: 4.1180 - val_dense_2_RootMeanSquaredError: 4.1548 - val_dense_2_loss: 17.2550 - val_dense_3_RootMeanSquaredError: 1.2742 - val_dense_3_loss: 1.6232 - val_loss: 15.6984\n",
            "Epoch 4/20\n",
            "\u001b[1m363/363\u001b[0m \u001b[32m━━━━━━━━━━━━━━━━━━━━\u001b[0m\u001b[37m\u001b[0m \u001b[1m1s\u001b[0m 4ms/step - dense_2_RootMeanSquaredError: 2.0092 - dense_2_loss: 4.0385 - dense_3_RootMeanSquaredError: 1.3163 - dense_3_loss: 1.7338 - loss: 3.8080 - val_dense_2_RootMeanSquaredError: 3.5684 - val_dense_2_loss: 12.7285 - val_dense_3_RootMeanSquaredError: 1.3812 - val_dense_3_loss: 1.9073 - val_loss: 11.6510\n",
            "Epoch 5/20\n",
            "\u001b[1m363/363\u001b[0m \u001b[32m━━━━━━━━━━━━━━━━━━━━\u001b[0m\u001b[37m\u001b[0m \u001b[1m1s\u001b[0m 4ms/step - dense_2_RootMeanSquaredError: 1.8872 - dense_2_loss: 3.5623 - dense_3_RootMeanSquaredError: 1.3219 - dense_3_loss: 1.7497 - loss: 3.3810 - val_dense_2_RootMeanSquaredError: 3.1251 - val_dense_2_loss: 9.7624 - val_dense_3_RootMeanSquaredError: 1.4575 - val_dense_3_loss: 2.1237 - val_loss: 9.0019\n",
            "Epoch 6/20\n",
            "\u001b[1m363/363\u001b[0m \u001b[32m━━━━━━━━━━━━━━━━━━━━\u001b[0m\u001b[37m\u001b[0m \u001b[1m1s\u001b[0m 4ms/step - dense_2_RootMeanSquaredError: 1.7761 - dense_2_loss: 3.1550 - dense_3_RootMeanSquaredError: 1.3733 - dense_3_loss: 1.8889 - loss: 3.0284 - val_dense_2_RootMeanSquaredError: 2.6903 - val_dense_2_loss: 7.2350 - val_dense_3_RootMeanSquaredError: 1.5156 - val_dense_3_loss: 2.2967 - val_loss: 6.7436\n",
            "Epoch 7/20\n",
            "\u001b[1m363/363\u001b[0m \u001b[32m━━━━━━━━━━━━━━━━━━━━\u001b[0m\u001b[37m\u001b[0m \u001b[1m1s\u001b[0m 4ms/step - dense_2_RootMeanSquaredError: 1.6805 - dense_2_loss: 2.8247 - dense_3_RootMeanSquaredError: 1.4091 - dense_3_loss: 1.9903 - loss: 2.7413 - val_dense_2_RootMeanSquaredError: 2.2162 - val_dense_2_loss: 4.9097 - val_dense_3_RootMeanSquaredError: 1.4239 - val_dense_3_loss: 2.0271 - val_loss: 4.6230\n",
            "Epoch 8/20\n",
            "\u001b[1m363/363\u001b[0m \u001b[32m━━━━━━━━━━━━━━━━━━━━\u001b[0m\u001b[37m\u001b[0m \u001b[1m3s\u001b[0m 4ms/step - dense_2_RootMeanSquaredError: 1.5792 - dense_2_loss: 2.4951 - dense_3_RootMeanSquaredError: 1.3192 - dense_3_loss: 1.7405 - loss: 2.4197 - val_dense_2_RootMeanSquaredError: 1.9059 - val_dense_2_loss: 3.6312 - val_dense_3_RootMeanSquaredError: 1.4765 - val_dense_3_loss: 2.1794 - val_loss: 3.4871\n",
            "Epoch 9/20\n",
            "\u001b[1m363/363\u001b[0m \u001b[32m━━━━━━━━━━━━━━━━━━━━\u001b[0m\u001b[37m\u001b[0m \u001b[1m3s\u001b[0m 4ms/step - dense_2_RootMeanSquaredError: 1.4872 - dense_2_loss: 2.2129 - dense_3_RootMeanSquaredError: 1.3786 - dense_3_loss: 1.9011 - loss: 2.1817 - val_dense_2_RootMeanSquaredError: 1.6818 - val_dense_2_loss: 2.8275 - val_dense_3_RootMeanSquaredError: 1.4777 - val_dense_3_loss: 2.1830 - val_loss: 2.7638\n",
            "Epoch 10/20\n",
            "\u001b[1m363/363\u001b[0m \u001b[32m━━━━━━━━━━━━━━━━━━━━\u001b[0m\u001b[37m\u001b[0m \u001b[1m2s\u001b[0m 5ms/step - dense_2_RootMeanSquaredError: 1.3954 - dense_2_loss: 1.9482 - dense_3_RootMeanSquaredError: 1.3393 - dense_3_loss: 1.7946 - loss: 1.9329 - val_dense_2_RootMeanSquaredError: 1.5582 - val_dense_2_loss: 2.4274 - val_dense_3_RootMeanSquaredError: 1.5095 - val_dense_3_loss: 2.2781 - val_loss: 2.4132\n",
            "Epoch 11/20\n",
            "\u001b[1m363/363\u001b[0m \u001b[32m━━━━━━━━━━━━━━━━━━━━\u001b[0m\u001b[37m\u001b[0m \u001b[1m1s\u001b[0m 4ms/step - dense_2_RootMeanSquaredError: 1.2919 - dense_2_loss: 1.6697 - dense_3_RootMeanSquaredError: 1.5021 - dense_3_loss: 2.2628 - loss: 1.7290 - val_dense_2_RootMeanSquaredError: 1.5000 - val_dense_2_loss: 2.2492 - val_dense_3_RootMeanSquaredError: 1.7556 - val_dense_3_loss: 3.0816 - val_loss: 2.3331\n",
            "Epoch 12/20\n",
            "\u001b[1m363/363\u001b[0m \u001b[32m━━━━━━━━━━━━━━━━━━━━\u001b[0m\u001b[37m\u001b[0m \u001b[1m3s\u001b[0m 4ms/step - dense_2_RootMeanSquaredError: 1.2062 - dense_2_loss: 1.4554 - dense_3_RootMeanSquaredError: 1.5943 - dense_3_loss: 2.5655 - loss: 1.5664 - val_dense_2_RootMeanSquaredError: 1.4818 - val_dense_2_loss: 2.1949 - val_dense_3_RootMeanSquaredError: 2.0479 - val_dense_3_loss: 4.1937 - val_loss: 2.3954\n",
            "Epoch 13/20\n",
            "\u001b[1m363/363\u001b[0m \u001b[32m━━━━━━━━━━━━━━━━━━━━\u001b[0m\u001b[37m\u001b[0m \u001b[1m1s\u001b[0m 4ms/step - dense_2_RootMeanSquaredError: 1.1628 - dense_2_loss: 1.3527 - dense_3_RootMeanSquaredError: 2.2304 - dense_3_loss: 5.1502 - loss: 1.7324 - val_dense_2_RootMeanSquaredError: 1.5388 - val_dense_2_loss: 2.3673 - val_dense_3_RootMeanSquaredError: 6.6156 - val_dense_3_loss: 43.7656 - val_loss: 6.5078\n",
            "Epoch 14/20\n",
            "\u001b[1m363/363\u001b[0m \u001b[32m━━━━━━━━━━━━━━━━━━━━\u001b[0m\u001b[37m\u001b[0m \u001b[1m1s\u001b[0m 4ms/step - dense_2_RootMeanSquaredError: 1.1160 - dense_2_loss: 1.2457 - dense_3_RootMeanSquaredError: 7.0834 - dense_3_loss: 54.6665 - loss: 6.5877 - val_dense_2_RootMeanSquaredError: 1.2086 - val_dense_2_loss: 1.4604 - val_dense_3_RootMeanSquaredError: 1.3490 - val_dense_3_loss: 1.8193 - val_loss: 1.4967\n",
            "Epoch 15/20\n",
            "\u001b[1m363/363\u001b[0m \u001b[32m━━━━━━━━━━━━━━━━━━━━\u001b[0m\u001b[37m\u001b[0m \u001b[1m2s\u001b[0m 4ms/step - dense_2_RootMeanSquaredError: 1.0701 - dense_2_loss: 1.1454 - dense_3_RootMeanSquaredError: 1.3325 - dense_3_loss: 1.7776 - loss: 1.2087 - val_dense_2_RootMeanSquaredError: 1.1869 - val_dense_2_loss: 1.4083 - val_dense_3_RootMeanSquaredError: 1.4154 - val_dense_3_loss: 2.0029 - val_loss: 1.4681\n",
            "Epoch 16/20\n",
            "\u001b[1m363/363\u001b[0m \u001b[32m━━━━━━━━━━━━━━━━━━━━\u001b[0m\u001b[37m\u001b[0m \u001b[1m2s\u001b[0m 5ms/step - dense_2_RootMeanSquaredError: 1.0925 - dense_2_loss: 1.1944 - dense_3_RootMeanSquaredError: 1.4028 - dense_3_loss: 1.9751 - loss: 1.2724 - val_dense_2_RootMeanSquaredError: 1.2212 - val_dense_2_loss: 1.4909 - val_dense_3_RootMeanSquaredError: 1.5719 - val_dense_3_loss: 2.4704 - val_loss: 1.5893\n",
            "Epoch 17/20\n",
            "\u001b[1m363/363\u001b[0m \u001b[32m━━━━━━━━━━━━━━━━━━━━\u001b[0m\u001b[37m\u001b[0m \u001b[1m1s\u001b[0m 4ms/step - dense_2_RootMeanSquaredError: 1.1018 - dense_2_loss: 1.2152 - dense_3_RootMeanSquaredError: 1.7355 - dense_3_loss: 3.0471 - loss: 1.3984 - val_dense_2_RootMeanSquaredError: 1.3250 - val_dense_2_loss: 1.7551 - val_dense_3_RootMeanSquaredError: 6.0717 - val_dense_3_loss: 36.8651 - val_loss: 5.2666\n",
            "Epoch 18/20\n",
            "\u001b[1m363/363\u001b[0m \u001b[32m━━━━━━━━━━━━━━━━━━━━\u001b[0m\u001b[37m\u001b[0m \u001b[1m1s\u001b[0m 4ms/step - dense_2_RootMeanSquaredError: 1.1186 - dense_2_loss: 1.2529 - dense_3_RootMeanSquaredError: 6.9869 - dense_3_loss: 52.9431 - loss: 6.4219 - val_dense_2_RootMeanSquaredError: 1.2262 - val_dense_2_loss: 1.5031 - val_dense_3_RootMeanSquaredError: 1.6169 - val_dense_3_loss: 2.6136 - val_loss: 1.6146\n",
            "Epoch 19/20\n",
            "\u001b[1m363/363\u001b[0m \u001b[32m━━━━━━━━━━━━━━━━━━━━\u001b[0m\u001b[37m\u001b[0m \u001b[1m3s\u001b[0m 4ms/step - dense_2_RootMeanSquaredError: 1.1201 - dense_2_loss: 1.2709 - dense_3_RootMeanSquaredError: 1.3278 - dense_3_loss: 1.7942 - loss: 1.3232 - val_dense_2_RootMeanSquaredError: 1.2616 - val_dense_2_loss: 1.5915 - val_dense_3_RootMeanSquaredError: 2.2895 - val_dense_3_loss: 5.2413 - val_loss: 1.9566\n",
            "Epoch 20/20\n",
            "\u001b[1m363/363\u001b[0m \u001b[32m━━━━━━━━━━━━━━━━━━━━\u001b[0m\u001b[37m\u001b[0m \u001b[1m3s\u001b[0m 4ms/step - dense_2_RootMeanSquaredError: 1.1157 - dense_2_loss: 1.2491 - dense_3_RootMeanSquaredError: 1.3770 - dense_3_loss: 1.9126 - loss: 1.3155 - val_dense_2_RootMeanSquaredError: 1.0901 - val_dense_2_loss: 1.1880 - val_dense_3_RootMeanSquaredError: 2.2413 - val_dense_3_loss: 5.0228 - val_loss: 1.5718\n",
            "\u001b[1m162/162\u001b[0m \u001b[32m━━━━━━━━━━━━━━━━━━━━\u001b[0m\u001b[37m\u001b[0m \u001b[1m1s\u001b[0m 4ms/step - dense_2_RootMeanSquaredError: 0.9737 - dense_2_loss: 0.9484 - dense_3_RootMeanSquaredError: 1.8225 - dense_3_loss: 3.3223 - loss: 1.1857\n",
            "\u001b[1m1/1\u001b[0m \u001b[32m━━━━━━━━━━━━━━━━━━━━\u001b[0m\u001b[37m\u001b[0m \u001b[1m0s\u001b[0m 243ms/step\n"
          ]
        }
      ]
    },
    {
      "cell_type": "markdown",
      "source": [
        "# Using Subclassing API to build Dynamic Models"
      ],
      "metadata": {
        "id": "M5sVK-LfhUea"
      }
    },
    {
      "cell_type": "code",
      "source": [
        "@tf.keras.utils.register_keras_serializable()\n",
        "class WideAndDeepModel(tf.keras.Model):\n",
        "  def __init__(self, units=30, activation='relu', **kwargs):\n",
        "    super().__init__(**kwargs)\n",
        "    self.norm_layer_wide = tf.keras.layers.Normalization()\n",
        "    self.norm_layer_deep = tf.keras.layers.Normalization()\n",
        "    self.hidden1 = tf.keras.layers.Dense(units, activation=activation)\n",
        "    self.hidden2 = tf.keras.layers.Dense(units, activation=activation)\n",
        "    self.main_output = tf.keras.layers.Dense(1)\n",
        "    self.aux_output = tf.keras.layers.Dense(1)\n",
        "\n",
        "\n",
        "  def call(self, inputs):\n",
        "    input_wide, input_deep = inputs\n",
        "    norm_wide = self.norm_layer_wide(input_wide)\n",
        "    norm_deep = self.norm_layer_deep(input_deep)\n",
        "    hidden1 = self.hidden1(norm_deep)\n",
        "    hidden2 = self.hidden2(hidden1)\n",
        "    concat = tf.keras.layers.concatenate([norm_wide, hidden2])\n",
        "    output = self.main_output(concat)\n",
        "    aux_output = self.aux_output(hidden2)\n",
        "    return output, aux_output\n",
        "\n",
        "model = WideAndDeepModel(30, activation='relu', name = 'my_cool_model')"
      ],
      "metadata": {
        "id": "Ch6s86Xyu7OO"
      },
      "execution_count": null,
      "outputs": []
    },
    {
      "cell_type": "code",
      "source": [
        "optimizer = tf.keras.optimizers.Adam(learning_rate=1e-3)\n",
        "model.compile(loss=['mse', 'mse'],\n",
        "              loss_weights=[0.9,0.1], optimizer = optimizer,\n",
        "              metrics = ['RootMeanSquaredError', 'RootMeanSquaredError'])\n",
        "\n",
        "model.norm_layer_wide.adapt(X_train_wide)\n",
        "model.norm_layer_deep.adapt(X_train_deep)\n",
        "history = model.fit((X_train_wide, X_train_deep), (y_train,y_train), epochs=10,\n",
        "                    validation_data = ((X_valid_wide,X_valid_deep),(y_valid, y_valid)))\n",
        "\n",
        "eval_results = model.evaluate((X_test_wide, X_test_deep), (y_test, y_test))\n",
        "y_pred_main, y_pred_aux = model.predict((X_new_wide, X_new_deep))"
      ],
      "metadata": {
        "colab": {
          "base_uri": "https://localhost:8080/"
        },
        "id": "S8Iv_rjMyTK-",
        "outputId": "081c36d0-e712-4a16-99ca-cc7a1cc62d8d"
      },
      "execution_count": null,
      "outputs": [
        {
          "output_type": "stream",
          "name": "stdout",
          "text": [
            "Epoch 1/10\n",
            "\u001b[1m363/363\u001b[0m \u001b[32m━━━━━━━━━━━━━━━━━━━━\u001b[0m\u001b[37m\u001b[0m \u001b[1m5s\u001b[0m 9ms/step - RootMeanSquaredError: 1.7801 - RootMeanSquaredError_1: 1.8765 - loss: 3.3191 - mse_loss: 3.5886 - val_RootMeanSquaredError: 1.1643 - val_RootMeanSquaredError_1: 1.0439 - val_loss: 1.3291 - val_mse_loss: 1.0896\n",
            "Epoch 2/10\n",
            "\u001b[1m363/363\u001b[0m \u001b[32m━━━━━━━━━━━━━━━━━━━━\u001b[0m\u001b[37m\u001b[0m \u001b[1m3s\u001b[0m 3ms/step - RootMeanSquaredError: 0.8319 - RootMeanSquaredError_1: 0.9813 - loss: 0.7206 - mse_loss: 0.9644 - val_RootMeanSquaredError: 0.8911 - val_RootMeanSquaredError_1: 0.8469 - val_loss: 0.7864 - val_mse_loss: 0.7172\n",
            "Epoch 3/10\n",
            "\u001b[1m363/363\u001b[0m \u001b[32m━━━━━━━━━━━━━━━━━━━━\u001b[0m\u001b[37m\u001b[0m \u001b[1m1s\u001b[0m 3ms/step - RootMeanSquaredError: 0.7219 - RootMeanSquaredError_1: 0.8309 - loss: 0.5383 - mse_loss: 0.6906 - val_RootMeanSquaredError: 1.2185 - val_RootMeanSquaredError_1: 1.7504 - val_loss: 1.6427 - val_mse_loss: 3.0625\n",
            "Epoch 4/10\n",
            "\u001b[1m363/363\u001b[0m \u001b[32m━━━━━━━━━━━━━━━━━━━━\u001b[0m\u001b[37m\u001b[0m \u001b[1m2s\u001b[0m 4ms/step - RootMeanSquaredError: 0.6799 - RootMeanSquaredError_1: 0.7815 - loss: 0.4775 - mse_loss: 0.6109 - val_RootMeanSquaredError: 1.1572 - val_RootMeanSquaredError_1: 0.8607 - val_loss: 1.2793 - val_mse_loss: 0.7405\n",
            "Epoch 5/10\n",
            "\u001b[1m363/363\u001b[0m \u001b[32m━━━━━━━━━━━━━━━━━━━━\u001b[0m\u001b[37m\u001b[0m \u001b[1m2s\u001b[0m 5ms/step - RootMeanSquaredError: 0.6544 - RootMeanSquaredError_1: 0.7425 - loss: 0.4407 - mse_loss: 0.5515 - val_RootMeanSquaredError: 1.5092 - val_RootMeanSquaredError_1: 1.8695 - val_loss: 2.3995 - val_mse_loss: 3.4935\n",
            "Epoch 6/10\n",
            "\u001b[1m363/363\u001b[0m \u001b[32m━━━━━━━━━━━━━━━━━━━━\u001b[0m\u001b[37m\u001b[0m \u001b[1m2s\u001b[0m 3ms/step - RootMeanSquaredError: 0.6425 - RootMeanSquaredError_1: 0.7310 - loss: 0.4251 - mse_loss: 0.5345 - val_RootMeanSquaredError: 1.7531 - val_RootMeanSquaredError_1: 1.3014 - val_loss: 2.9354 - val_mse_loss: 1.6930\n",
            "Epoch 7/10\n",
            "\u001b[1m363/363\u001b[0m \u001b[32m━━━━━━━━━━━━━━━━━━━━\u001b[0m\u001b[37m\u001b[0m \u001b[1m1s\u001b[0m 3ms/step - RootMeanSquaredError: 0.6311 - RootMeanSquaredError_1: 0.7135 - loss: 0.4095 - mse_loss: 0.5091 - val_RootMeanSquaredError: 1.4478 - val_RootMeanSquaredError_1: 1.5981 - val_loss: 2.1420 - val_mse_loss: 2.5529\n",
            "Epoch 8/10\n",
            "\u001b[1m363/363\u001b[0m \u001b[32m━━━━━━━━━━━━━━━━━━━━\u001b[0m\u001b[37m\u001b[0m \u001b[1m3s\u001b[0m 4ms/step - RootMeanSquaredError: 0.6250 - RootMeanSquaredError_1: 0.7053 - loss: 0.4015 - mse_loss: 0.4976 - val_RootMeanSquaredError: 1.4536 - val_RootMeanSquaredError_1: 1.0993 - val_loss: 2.0226 - val_mse_loss: 1.2079\n",
            "Epoch 9/10\n",
            "\u001b[1m363/363\u001b[0m \u001b[32m━━━━━━━━━━━━━━━━━━━━\u001b[0m\u001b[37m\u001b[0m \u001b[1m1s\u001b[0m 4ms/step - RootMeanSquaredError: 0.6157 - RootMeanSquaredError_1: 0.6937 - loss: 0.3895 - mse_loss: 0.4813 - val_RootMeanSquaredError: 1.0257 - val_RootMeanSquaredError_1: 1.1109 - val_loss: 1.0702 - val_mse_loss: 1.2336\n",
            "Epoch 10/10\n",
            "\u001b[1m363/363\u001b[0m \u001b[32m━━━━━━━━━━━━━━━━━━━━\u001b[0m\u001b[37m\u001b[0m \u001b[1m2s\u001b[0m 4ms/step - RootMeanSquaredError: 0.6099 - RootMeanSquaredError_1: 0.6842 - loss: 0.3818 - mse_loss: 0.4682 - val_RootMeanSquaredError: 1.1389 - val_RootMeanSquaredError_1: 0.9311 - val_loss: 1.2542 - val_mse_loss: 0.8666\n",
            "\u001b[1m162/162\u001b[0m \u001b[32m━━━━━━━━━━━━━━━━━━━━\u001b[0m\u001b[37m\u001b[0m \u001b[1m1s\u001b[0m 6ms/step - RootMeanSquaredError: 0.5980 - RootMeanSquaredError_1: 0.6707 - loss: 0.3669 - mse_loss: 0.4499\n"
          ]
        },
        {
          "output_type": "stream",
          "name": "stderr",
          "text": [
            "WARNING:tensorflow:5 out of the last 5 calls to <function TensorFlowTrainer.make_predict_function.<locals>.one_step_on_data_distributed at 0x78a3695e72e0> triggered tf.function retracing. Tracing is expensive and the excessive number of tracings could be due to (1) creating @tf.function repeatedly in a loop, (2) passing tensors with different shapes, (3) passing Python objects instead of tensors. For (1), please define your @tf.function outside of the loop. For (2), @tf.function has reduce_retracing=True option that can avoid unnecessary retracing. For (3), please refer to https://www.tensorflow.org/guide/function#controlling_retracing and https://www.tensorflow.org/api_docs/python/tf/function for  more details.\n"
          ]
        },
        {
          "output_type": "stream",
          "name": "stdout",
          "text": [
            "\u001b[1m1/1\u001b[0m \u001b[32m━━━━━━━━━━━━━━━━━━━━\u001b[0m\u001b[37m\u001b[0m \u001b[1m0s\u001b[0m 314ms/step\n"
          ]
        }
      ]
    },
    {
      "cell_type": "markdown",
      "source": [
        "# Saving and Restoring a Model"
      ],
      "metadata": {
        "id": "POhy6gsyzvRG"
      }
    },
    {
      "cell_type": "code",
      "source": [
        "import shutil\n",
        "\n",
        "shutil.rmtree('my_keras_model.keras', ignore_errors=True)"
      ],
      "metadata": {
        "id": "6LgCp0pY1Zka"
      },
      "execution_count": null,
      "outputs": []
    },
    {
      "cell_type": "code",
      "source": [
        "model.save('my_keras_model.keras')"
      ],
      "metadata": {
        "id": "pX_VEiRI12Ho"
      },
      "execution_count": null,
      "outputs": []
    },
    {
      "cell_type": "code",
      "source": [
        "model = tf.keras.models.load_model('/content/my_keras_model.keras')\n",
        "y_pred_main, y_pred_aux = model.predict((X_new_wide, X_new_deep))"
      ],
      "metadata": {
        "colab": {
          "base_uri": "https://localhost:8080/"
        },
        "id": "Dw9cdaaH1-An",
        "outputId": "b2d2e566-f846-403b-9890-69abcd640c0d"
      },
      "execution_count": null,
      "outputs": [
        {
          "output_type": "stream",
          "name": "stderr",
          "text": [
            "WARNING:tensorflow:6 out of the last 6 calls to <function TensorFlowTrainer.make_predict_function.<locals>.one_step_on_data_distributed at 0x78a36959f420> triggered tf.function retracing. Tracing is expensive and the excessive number of tracings could be due to (1) creating @tf.function repeatedly in a loop, (2) passing tensors with different shapes, (3) passing Python objects instead of tensors. For (1), please define your @tf.function outside of the loop. For (2), @tf.function has reduce_retracing=True option that can avoid unnecessary retracing. For (3), please refer to https://www.tensorflow.org/guide/function#controlling_retracing and https://www.tensorflow.org/api_docs/python/tf/function for  more details.\n"
          ]
        },
        {
          "output_type": "stream",
          "name": "stdout",
          "text": [
            "\u001b[1m1/1\u001b[0m \u001b[32m━━━━━━━━━━━━━━━━━━━━\u001b[0m\u001b[37m\u001b[0m \u001b[1m0s\u001b[0m 197ms/step\n"
          ]
        }
      ]
    },
    {
      "cell_type": "markdown",
      "source": [
        "# Using Callbacks"
      ],
      "metadata": {
        "id": "WHlvwAQs4Zvo"
      }
    },
    {
      "cell_type": "code",
      "source": [
        "import shutil\n",
        "\n",
        "shutil.rmtree('my_checkpoints', ignore_errors=True)"
      ],
      "metadata": {
        "id": "K2NiLoV05lOs"
      },
      "execution_count": null,
      "outputs": []
    },
    {
      "cell_type": "code",
      "source": [
        "checkpoint_cb = tf.keras.callbacks.ModelCheckpoint('my_checkpoints.weights.h5',\n",
        "                                                   save_freq = 'epoch',\n",
        "                                                   save_best_only = True,\n",
        "                                                   save_weights_only=True)\n",
        "history = model.fit((X_train_wide, X_train_deep), (y_train, y_train), epochs=10,\n",
        "                    validation_data=((X_valid_wide, X_valid_deep), (y_valid, y_valid)),\n",
        "                    callbacks = [checkpoint_cb])\n",
        "# her epochda yadda saxlayir"
      ],
      "metadata": {
        "colab": {
          "base_uri": "https://localhost:8080/"
        },
        "id": "ftlJm4FP51sB",
        "outputId": "b4fcf69b-2168-4d12-c18f-fbf090a26ae1"
      },
      "execution_count": null,
      "outputs": [
        {
          "output_type": "stream",
          "name": "stdout",
          "text": [
            "Epoch 1/10\n",
            "\u001b[1m363/363\u001b[0m \u001b[32m━━━━━━━━━━━━━━━━━━━━\u001b[0m\u001b[37m\u001b[0m \u001b[1m1s\u001b[0m 4ms/step - RootMeanSquaredError: 0.5764 - RootMeanSquaredError_1: 0.6271 - loss: 0.3384 - mse_loss: 0.3934 - val_RootMeanSquaredError: 1.0801 - val_RootMeanSquaredError_1: 1.0094 - val_loss: 1.1518 - val_mse_loss: 1.0186\n",
            "Epoch 2/10\n",
            "\u001b[1m363/363\u001b[0m \u001b[32m━━━━━━━━━━━━━━━━━━━━\u001b[0m\u001b[37m\u001b[0m \u001b[1m2s\u001b[0m 3ms/step - RootMeanSquaredError: 0.5775 - RootMeanSquaredError_1: 0.6249 - loss: 0.3392 - mse_loss: 0.3906 - val_RootMeanSquaredError: 1.3209 - val_RootMeanSquaredError_1: 1.4332 - val_loss: 1.7757 - val_mse_loss: 2.0531\n",
            "Epoch 3/10\n",
            "\u001b[1m363/363\u001b[0m \u001b[32m━━━━━━━━━━━━━━━━━━━━\u001b[0m\u001b[37m\u001b[0m \u001b[1m1s\u001b[0m 4ms/step - RootMeanSquaredError: 0.5751 - RootMeanSquaredError_1: 0.6250 - loss: 0.3368 - mse_loss: 0.3908 - val_RootMeanSquaredError: 1.2337 - val_RootMeanSquaredError_1: 1.5884 - val_loss: 1.6221 - val_mse_loss: 2.5218\n",
            "Epoch 4/10\n",
            "\u001b[1m363/363\u001b[0m \u001b[32m━━━━━━━━━━━━━━━━━━━━\u001b[0m\u001b[37m\u001b[0m \u001b[1m2s\u001b[0m 3ms/step - RootMeanSquaredError: 0.5761 - RootMeanSquaredError_1: 0.6266 - loss: 0.3380 - mse_loss: 0.3929 - val_RootMeanSquaredError: 1.1674 - val_RootMeanSquaredError_1: 0.8242 - val_loss: 1.2945 - val_mse_loss: 0.6792\n",
            "Epoch 5/10\n",
            "\u001b[1m363/363\u001b[0m \u001b[32m━━━━━━━━━━━━━━━━━━━━\u001b[0m\u001b[37m\u001b[0m \u001b[1m1s\u001b[0m 4ms/step - RootMeanSquaredError: 0.5715 - RootMeanSquaredError_1: 0.6163 - loss: 0.3320 - mse_loss: 0.3800 - val_RootMeanSquaredError: 0.7805 - val_RootMeanSquaredError_1: 0.7931 - val_loss: 0.6112 - val_mse_loss: 0.6288\n",
            "Epoch 6/10\n",
            "\u001b[1m363/363\u001b[0m \u001b[32m━━━━━━━━━━━━━━━━━━━━\u001b[0m\u001b[37m\u001b[0m \u001b[1m2s\u001b[0m 3ms/step - RootMeanSquaredError: 0.5695 - RootMeanSquaredError_1: 0.6167 - loss: 0.3300 - mse_loss: 0.3805 - val_RootMeanSquaredError: 0.8078 - val_RootMeanSquaredError_1: 0.7830 - val_loss: 0.6487 - val_mse_loss: 0.6129\n",
            "Epoch 7/10\n",
            "\u001b[1m363/363\u001b[0m \u001b[32m━━━━━━━━━━━━━━━━━━━━\u001b[0m\u001b[37m\u001b[0m \u001b[1m3s\u001b[0m 4ms/step - RootMeanSquaredError: 0.5666 - RootMeanSquaredError_1: 0.6116 - loss: 0.3264 - mse_loss: 0.3742 - val_RootMeanSquaredError: 0.6227 - val_RootMeanSquaredError_1: 0.6151 - val_loss: 0.3869 - val_mse_loss: 0.3783\n",
            "Epoch 8/10\n",
            "\u001b[1m363/363\u001b[0m \u001b[32m━━━━━━━━━━━━━━━━━━━━\u001b[0m\u001b[37m\u001b[0m \u001b[1m3s\u001b[0m 4ms/step - RootMeanSquaredError: 0.5652 - RootMeanSquaredError_1: 0.6104 - loss: 0.3248 - mse_loss: 0.3727 - val_RootMeanSquaredError: 1.0046 - val_RootMeanSquaredError_1: 1.2039 - val_loss: 1.0533 - val_mse_loss: 1.4489\n",
            "Epoch 9/10\n",
            "\u001b[1m363/363\u001b[0m \u001b[32m━━━━━━━━━━━━━━━━━━━━\u001b[0m\u001b[37m\u001b[0m \u001b[1m2s\u001b[0m 5ms/step - RootMeanSquaredError: 0.5642 - RootMeanSquaredError_1: 0.6097 - loss: 0.3238 - mse_loss: 0.3719 - val_RootMeanSquaredError: 0.8948 - val_RootMeanSquaredError_1: 0.9430 - val_loss: 0.8095 - val_mse_loss: 0.8889\n",
            "Epoch 10/10\n",
            "\u001b[1m363/363\u001b[0m \u001b[32m━━━━━━━━━━━━━━━━━━━━\u001b[0m\u001b[37m\u001b[0m \u001b[1m1s\u001b[0m 4ms/step - RootMeanSquaredError: 0.5655 - RootMeanSquaredError_1: 0.6100 - loss: 0.3251 - mse_loss: 0.3723 - val_RootMeanSquaredError: 1.4458 - val_RootMeanSquaredError_1: 1.5095 - val_loss: 2.1093 - val_mse_loss: 2.2774\n"
          ]
        }
      ]
    },
    {
      "cell_type": "code",
      "source": [
        "early_stopping_cb = tf.keras.callbacks.EarlyStopping(patience=10,\n",
        "                                                     restore_best_weights=True)\n",
        "\n",
        "history = model.fit((X_train_wide, X_train_deep), (y_train, y_train), epochs=100,\n",
        "                    validation_data=((X_valid_wide, X_valid_deep), (y_valid, y_valid)),\n",
        "                    callbacks = [checkpoint_cb, early_stopping_cb])"
      ],
      "metadata": {
        "colab": {
          "base_uri": "https://localhost:8080/"
        },
        "id": "6PZnvMs_7VwW",
        "outputId": "395906a1-1d88-49e9-9d72-7de08db6c6b3"
      },
      "execution_count": null,
      "outputs": [
        {
          "output_type": "stream",
          "name": "stdout",
          "text": [
            "Epoch 1/100\n",
            "\u001b[1m363/363\u001b[0m \u001b[32m━━━━━━━━━━━━━━━━━━━━\u001b[0m\u001b[37m\u001b[0m \u001b[1m2s\u001b[0m 5ms/step - RootMeanSquaredError: 0.5659 - RootMeanSquaredError_1: 0.6099 - loss: 0.3255 - mse_loss: 0.3722 - val_RootMeanSquaredError: 1.0844 - val_RootMeanSquaredError_1: 1.2746 - val_loss: 1.2209 - val_mse_loss: 1.6239\n",
            "Epoch 2/100\n",
            "\u001b[1m363/363\u001b[0m \u001b[32m━━━━━━━━━━━━━━━━━━━━\u001b[0m\u001b[37m\u001b[0m \u001b[1m2s\u001b[0m 3ms/step - RootMeanSquaredError: 0.5654 - RootMeanSquaredError_1: 0.6102 - loss: 0.3250 - mse_loss: 0.3725 - val_RootMeanSquaredError: 0.8616 - val_RootMeanSquaredError_1: 0.7819 - val_loss: 0.7292 - val_mse_loss: 0.6112\n",
            "Epoch 3/100\n",
            "\u001b[1m363/363\u001b[0m \u001b[32m━━━━━━━━━━━━━━━━━━━━\u001b[0m\u001b[37m\u001b[0m \u001b[1m3s\u001b[0m 4ms/step - RootMeanSquaredError: 0.5608 - RootMeanSquaredError_1: 0.6026 - loss: 0.3194 - mse_loss: 0.3632 - val_RootMeanSquaredError: 0.5910 - val_RootMeanSquaredError_1: 0.6443 - val_loss: 0.3559 - val_mse_loss: 0.4150\n",
            "Epoch 4/100\n",
            "\u001b[1m363/363\u001b[0m \u001b[32m━━━━━━━━━━━━━━━━━━━━\u001b[0m\u001b[37m\u001b[0m \u001b[1m3s\u001b[0m 3ms/step - RootMeanSquaredError: 0.5591 - RootMeanSquaredError_1: 0.6022 - loss: 0.3177 - mse_loss: 0.3628 - val_RootMeanSquaredError: 0.6788 - val_RootMeanSquaredError_1: 0.7186 - val_loss: 0.4663 - val_mse_loss: 0.5162\n",
            "Epoch 5/100\n",
            "\u001b[1m363/363\u001b[0m \u001b[32m━━━━━━━━━━━━━━━━━━━━\u001b[0m\u001b[37m\u001b[0m \u001b[1m1s\u001b[0m 4ms/step - RootMeanSquaredError: 0.5581 - RootMeanSquaredError_1: 0.6006 - loss: 0.3164 - mse_loss: 0.3608 - val_RootMeanSquaredError: 0.6053 - val_RootMeanSquaredError_1: 0.7160 - val_loss: 0.3811 - val_mse_loss: 0.5126\n",
            "Epoch 6/100\n",
            "\u001b[1m363/363\u001b[0m \u001b[32m━━━━━━━━━━━━━━━━━━━━\u001b[0m\u001b[37m\u001b[0m \u001b[1m2s\u001b[0m 4ms/step - RootMeanSquaredError: 0.5580 - RootMeanSquaredError_1: 0.5997 - loss: 0.3162 - mse_loss: 0.3597 - val_RootMeanSquaredError: 0.9561 - val_RootMeanSquaredError_1: 1.1897 - val_loss: 0.9643 - val_mse_loss: 1.4149\n",
            "Epoch 7/100\n",
            "\u001b[1m363/363\u001b[0m \u001b[32m━━━━━━━━━━━━━━━━━━━━\u001b[0m\u001b[37m\u001b[0m \u001b[1m2s\u001b[0m 5ms/step - RootMeanSquaredError: 0.5574 - RootMeanSquaredError_1: 0.6004 - loss: 0.3157 - mse_loss: 0.3607 - val_RootMeanSquaredError: 0.8690 - val_RootMeanSquaredError_1: 1.0562 - val_loss: 0.7911 - val_mse_loss: 1.1151\n",
            "Epoch 8/100\n",
            "\u001b[1m363/363\u001b[0m \u001b[32m━━━━━━━━━━━━━━━━━━━━\u001b[0m\u001b[37m\u001b[0m \u001b[1m1s\u001b[0m 3ms/step - RootMeanSquaredError: 0.5581 - RootMeanSquaredError_1: 0.6017 - loss: 0.3166 - mse_loss: 0.3622 - val_RootMeanSquaredError: 0.9449 - val_RootMeanSquaredError_1: 0.7647 - val_loss: 0.8620 - val_mse_loss: 0.5845\n",
            "Epoch 9/100\n",
            "\u001b[1m363/363\u001b[0m \u001b[32m━━━━━━━━━━━━━━━━━━━━\u001b[0m\u001b[37m\u001b[0m \u001b[1m3s\u001b[0m 4ms/step - RootMeanSquaredError: 0.5561 - RootMeanSquaredError_1: 0.5963 - loss: 0.3139 - mse_loss: 0.3557 - val_RootMeanSquaredError: 0.7057 - val_RootMeanSquaredError_1: 0.7541 - val_loss: 0.5051 - val_mse_loss: 0.5685\n",
            "Epoch 10/100\n",
            "\u001b[1m363/363\u001b[0m \u001b[32m━━━━━━━━━━━━━━━━━━━━\u001b[0m\u001b[37m\u001b[0m \u001b[1m1s\u001b[0m 3ms/step - RootMeanSquaredError: 0.5560 - RootMeanSquaredError_1: 0.5991 - loss: 0.3142 - mse_loss: 0.3591 - val_RootMeanSquaredError: 0.7539 - val_RootMeanSquaredError_1: 0.7452 - val_loss: 0.5671 - val_mse_loss: 0.5552\n",
            "Epoch 11/100\n",
            "\u001b[1m363/363\u001b[0m \u001b[32m━━━━━━━━━━━━━━━━━━━━\u001b[0m\u001b[37m\u001b[0m \u001b[1m1s\u001b[0m 3ms/step - RootMeanSquaredError: 0.5540 - RootMeanSquaredError_1: 0.5946 - loss: 0.3116 - mse_loss: 0.3537 - val_RootMeanSquaredError: 0.5958 - val_RootMeanSquaredError_1: 0.6293 - val_loss: 0.3591 - val_mse_loss: 0.3959\n",
            "Epoch 12/100\n",
            "\u001b[1m363/363\u001b[0m \u001b[32m━━━━━━━━━━━━━━━━━━━━\u001b[0m\u001b[37m\u001b[0m \u001b[1m3s\u001b[0m 3ms/step - RootMeanSquaredError: 0.5532 - RootMeanSquaredError_1: 0.5953 - loss: 0.3109 - mse_loss: 0.3546 - val_RootMeanSquaredError: 0.9790 - val_RootMeanSquaredError_1: 1.2532 - val_loss: 1.0196 - val_mse_loss: 1.5699\n",
            "Epoch 13/100\n",
            "\u001b[1m363/363\u001b[0m \u001b[32m━━━━━━━━━━━━━━━━━━━━\u001b[0m\u001b[37m\u001b[0m \u001b[1m2s\u001b[0m 5ms/step - RootMeanSquaredError: 0.5533 - RootMeanSquaredError_1: 0.5951 - loss: 0.3110 - mse_loss: 0.3543 - val_RootMeanSquaredError: 0.8865 - val_RootMeanSquaredError_1: 1.0361 - val_loss: 0.8146 - val_mse_loss: 1.0732\n"
          ]
        }
      ]
    },
    {
      "cell_type": "code",
      "source": [
        "class PrintValTrainRatioCallback(tf.keras.callbacks.Callback):\n",
        "  def on_epoch_end(sel, epoch, logs):\n",
        "    ratio = logs['val_loss']/logs['loss']\n",
        "    print(f\"Epoch={epoch}, val/train={ratio:.2f}\")"
      ],
      "metadata": {
        "id": "xxkor-IC8l37"
      },
      "execution_count": null,
      "outputs": []
    },
    {
      "cell_type": "code",
      "source": [
        "val_train_ratio_cb = PrintValTrainRatioCallback()\n",
        "history =  model.fit((X_train_wide, X_train_deep), (y_train, y_train), epochs=10,\n",
        "                    validation_data=((X_valid_wide, X_valid_deep), (y_valid, y_valid)),\n",
        "                    callbacks = [val_train_ratio_cb], verbose=0)"
      ],
      "metadata": {
        "colab": {
          "base_uri": "https://localhost:8080/"
        },
        "id": "n9t8P5XM9zhQ",
        "outputId": "27a5ee55-90fe-4ce5-a891-66bad180b6f1"
      },
      "execution_count": null,
      "outputs": [
        {
          "output_type": "stream",
          "name": "stdout",
          "text": [
            "Epoch=0, val/train=1.53\n",
            "Epoch=1, val/train=1.61\n",
            "Epoch=2, val/train=4.86\n",
            "Epoch=3, val/train=3.85\n",
            "Epoch=4, val/train=3.47\n",
            "Epoch=5, val/train=1.58\n",
            "Epoch=6, val/train=1.81\n",
            "Epoch=7, val/train=1.14\n",
            "Epoch=8, val/train=1.73\n",
            "Epoch=9, val/train=1.24\n"
          ]
        }
      ]
    },
    {
      "cell_type": "code",
      "source": [],
      "metadata": {
        "id": "CXlAJQsU-Ek6"
      },
      "execution_count": null,
      "outputs": []
    }
  ]
}